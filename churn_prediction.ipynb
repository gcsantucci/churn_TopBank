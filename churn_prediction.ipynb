{
 "cells": [
  {
   "cell_type": "markdown",
   "metadata": {},
   "source": [
    "# Predicting Churn"
   ]
  },
  {
   "cell_type": "code",
   "execution_count": 35,
   "metadata": {
    "ExecuteTime": {
     "end_time": "2020-11-28T22:24:37.448208Z",
     "start_time": "2020-11-28T22:24:36.269069Z"
    }
   },
   "outputs": [],
   "source": [
    "import numpy as np\n",
    "import pandas as pd\n",
    "import matplotlib.pyplot as plt\n",
    "from sklearn.model_selection import train_test_split\n",
    "from sklearn.preprocessing import OneHotEncoder\n",
    "from sklearn.compose import make_column_transformer\n",
    "from sklearn.pipeline import make_pipeline\n",
    "from sklearn.model_selection import cross_val_score\n",
    "from sklearn.model_selection import GridSearchCV\n",
    "\n",
    "from sklearn.linear_model import LogisticRegression\n",
    "from sklearn.ensemble import RandomForestClassifier\n",
    "\n",
    "np.random.seed(123)\n",
    "plt.rc('figure', figsize=(10, 6))\n",
    "np.set_printoptions(precision=3)\n",
    "pd.options.display.max_rows = 20\n",
    "pd.options.display.max_columns = 30"
   ]
  },
  {
   "cell_type": "markdown",
   "metadata": {},
   "source": [
    "## Perguntas:"
   ]
  },
  {
   "cell_type": "markdown",
   "metadata": {
    "ExecuteTime": {
     "end_time": "2020-11-28T21:41:58.130406Z",
     "start_time": "2020-11-28T21:41:58.123151Z"
    }
   },
   "source": [
    "1. Qual a taxa atual de Churn da TopBank? Como ela varia mensalmente?  \n",
    "2. Qual a Performance do modelo em classificar os clientes como churns?  \n",
    "3. Qual o retorno esperado, em termos de faturamento, se a empresa utilizar seu modelo para evitar o churn dos clientes?  \n",
    "4. Para quais clientes você daria o incentivo financeiro e qual seria esse valor, de modo a maximizar o ROI (Retorno sobre o investimento).  \n",
    "Lembrando que a soma dos incentivos para cada cliente não pode ultrapassar os  R$10.000,00"
   ]
  },
  {
   "cell_type": "markdown",
   "metadata": {},
   "source": [
    "### Dataset\n",
    "\n",
    "**RowNumber**: corresponds to the record (row) number and has no effect on the output.  \n",
    "**CustomerId**: contains random values and has no effect on customer leaving the bank.  \n",
    "**Surname**: the surname of a customer has no impact on their decision to leave the bank.  \n",
    "**CreditScore**: can have an effect on customer churn, since a customer with a higher credit score is less likely to leave the bank.  \n",
    "**Geography**: a customer’s location can affect their decision to leave the bank.  \n",
    "**Gender**: it’s interesting to explore whether gender plays a role in a customer leaving the bank.  \n",
    "**Age**: this is certainly relevant, since older customers are less likely to leave their bank than younger ones.  \n",
    "**Tenure**: refers to the number of years that the customer has been a client of the bank. Normally, older clients are more loyal and less likely to leave a bank.  \n",
    "**Balance**: also a very good indicator of customer churn, as people with a higher balance in their accounts are less likely to leave the bank compared to those with lower balances.  \n",
    "**NumOfProducts**: refers to the number of products that a customer has purchased through the bank.  \n",
    "**HasCrCard**: denotes whether or not a customer has a credit card. This column is also relevant, since people with a credit card are less likely to leave the bank.  \n",
    "**IsActiveMember**: active customers are less likely to leave the bank.  \n",
    "**EstimatedSalary**: as with balance, people with lower salaries are more likely to leave the bank compared to those with higher salaries.  \n",
    "**Exited**: whether or not the customer left the bank. (0=No,1=Yes)"
   ]
  },
  {
   "cell_type": "markdown",
   "metadata": {},
   "source": [
    "## Read Data Set:"
   ]
  },
  {
   "cell_type": "code",
   "execution_count": 36,
   "metadata": {
    "ExecuteTime": {
     "end_time": "2020-11-28T22:24:41.104567Z",
     "start_time": "2020-11-28T22:24:41.075237Z"
    }
   },
   "outputs": [
    {
     "name": "stdout",
     "output_type": "stream",
     "text": [
      "Index(['RowNumber', 'CustomerId', 'Surname', 'CreditScore', 'Geography',\n",
      "       'Gender', 'Age', 'Tenure', 'Balance', 'NumOfProducts', 'HasCrCard',\n",
      "       'IsActiveMember', 'EstimatedSalary', 'Exited'],\n",
      "      dtype='object')\n"
     ]
    },
    {
     "data": {
      "text/html": [
       "<div>\n",
       "<style scoped>\n",
       "    .dataframe tbody tr th:only-of-type {\n",
       "        vertical-align: middle;\n",
       "    }\n",
       "\n",
       "    .dataframe tbody tr th {\n",
       "        vertical-align: top;\n",
       "    }\n",
       "\n",
       "    .dataframe thead th {\n",
       "        text-align: right;\n",
       "    }\n",
       "</style>\n",
       "<table border=\"1\" class=\"dataframe\">\n",
       "  <thead>\n",
       "    <tr style=\"text-align: right;\">\n",
       "      <th></th>\n",
       "      <th>RowNumber</th>\n",
       "      <th>CustomerId</th>\n",
       "      <th>Surname</th>\n",
       "      <th>CreditScore</th>\n",
       "      <th>Geography</th>\n",
       "      <th>Gender</th>\n",
       "      <th>Age</th>\n",
       "      <th>Tenure</th>\n",
       "      <th>Balance</th>\n",
       "      <th>NumOfProducts</th>\n",
       "      <th>HasCrCard</th>\n",
       "      <th>IsActiveMember</th>\n",
       "      <th>EstimatedSalary</th>\n",
       "      <th>Exited</th>\n",
       "    </tr>\n",
       "  </thead>\n",
       "  <tbody>\n",
       "    <tr>\n",
       "      <th>0</th>\n",
       "      <td>1</td>\n",
       "      <td>15634602</td>\n",
       "      <td>Hargrave</td>\n",
       "      <td>619</td>\n",
       "      <td>France</td>\n",
       "      <td>Female</td>\n",
       "      <td>42</td>\n",
       "      <td>2</td>\n",
       "      <td>0.00</td>\n",
       "      <td>1</td>\n",
       "      <td>1</td>\n",
       "      <td>1</td>\n",
       "      <td>101348.88</td>\n",
       "      <td>1</td>\n",
       "    </tr>\n",
       "    <tr>\n",
       "      <th>1</th>\n",
       "      <td>2</td>\n",
       "      <td>15647311</td>\n",
       "      <td>Hill</td>\n",
       "      <td>608</td>\n",
       "      <td>Spain</td>\n",
       "      <td>Female</td>\n",
       "      <td>41</td>\n",
       "      <td>1</td>\n",
       "      <td>83807.86</td>\n",
       "      <td>1</td>\n",
       "      <td>0</td>\n",
       "      <td>1</td>\n",
       "      <td>112542.58</td>\n",
       "      <td>0</td>\n",
       "    </tr>\n",
       "  </tbody>\n",
       "</table>\n",
       "</div>"
      ],
      "text/plain": [
       "   RowNumber  CustomerId   Surname  CreditScore Geography  Gender  Age  \\\n",
       "0          1    15634602  Hargrave          619    France  Female   42   \n",
       "1          2    15647311      Hill          608     Spain  Female   41   \n",
       "\n",
       "   Tenure   Balance  NumOfProducts  HasCrCard  IsActiveMember  \\\n",
       "0       2      0.00              1          1               1   \n",
       "1       1  83807.86              1          0               1   \n",
       "\n",
       "   EstimatedSalary  Exited  \n",
       "0        101348.88       1  \n",
       "1        112542.58       0  "
      ]
     },
     "execution_count": 36,
     "metadata": {},
     "output_type": "execute_result"
    }
   ],
   "source": [
    "df = pd.read_csv('data/churn.csv')\n",
    "print(df.columns)\n",
    "df.head(2)"
   ]
  },
  {
   "cell_type": "code",
   "execution_count": 37,
   "metadata": {
    "ExecuteTime": {
     "end_time": "2020-11-28T22:24:41.635225Z",
     "start_time": "2020-11-28T22:24:41.628003Z"
    }
   },
   "outputs": [],
   "source": [
    "cols = ['CreditScore', 'Geography', 'Gender', 'Age', 'Tenure', 'Balance',\n",
    "        'NumOfProducts', 'HasCrCard', 'IsActiveMember', 'EstimatedSalary']\n",
    "Xraw = df[cols].copy()\n",
    "yraw = df['Exited'].copy()"
   ]
  },
  {
   "cell_type": "code",
   "execution_count": 38,
   "metadata": {
    "ExecuteTime": {
     "end_time": "2020-11-28T22:24:42.153214Z",
     "start_time": "2020-11-28T22:24:42.140765Z"
    }
   },
   "outputs": [
    {
     "data": {
      "text/html": [
       "<div>\n",
       "<style scoped>\n",
       "    .dataframe tbody tr th:only-of-type {\n",
       "        vertical-align: middle;\n",
       "    }\n",
       "\n",
       "    .dataframe tbody tr th {\n",
       "        vertical-align: top;\n",
       "    }\n",
       "\n",
       "    .dataframe thead th {\n",
       "        text-align: right;\n",
       "    }\n",
       "</style>\n",
       "<table border=\"1\" class=\"dataframe\">\n",
       "  <thead>\n",
       "    <tr style=\"text-align: right;\">\n",
       "      <th></th>\n",
       "      <th>CreditScore</th>\n",
       "      <th>Geography</th>\n",
       "      <th>Gender</th>\n",
       "      <th>Age</th>\n",
       "      <th>Tenure</th>\n",
       "      <th>Balance</th>\n",
       "      <th>NumOfProducts</th>\n",
       "      <th>HasCrCard</th>\n",
       "      <th>IsActiveMember</th>\n",
       "      <th>EstimatedSalary</th>\n",
       "    </tr>\n",
       "  </thead>\n",
       "  <tbody>\n",
       "    <tr>\n",
       "      <th>2656</th>\n",
       "      <td>779</td>\n",
       "      <td>Spain</td>\n",
       "      <td>Female</td>\n",
       "      <td>34</td>\n",
       "      <td>5</td>\n",
       "      <td>0.00</td>\n",
       "      <td>2</td>\n",
       "      <td>0</td>\n",
       "      <td>1</td>\n",
       "      <td>111676.63</td>\n",
       "    </tr>\n",
       "    <tr>\n",
       "      <th>445</th>\n",
       "      <td>748</td>\n",
       "      <td>France</td>\n",
       "      <td>Female</td>\n",
       "      <td>26</td>\n",
       "      <td>1</td>\n",
       "      <td>77780.29</td>\n",
       "      <td>1</td>\n",
       "      <td>0</td>\n",
       "      <td>1</td>\n",
       "      <td>183049.41</td>\n",
       "    </tr>\n",
       "  </tbody>\n",
       "</table>\n",
       "</div>"
      ],
      "text/plain": [
       "      CreditScore Geography  Gender  Age  Tenure   Balance  NumOfProducts  \\\n",
       "2656          779     Spain  Female   34       5      0.00              2   \n",
       "445           748    France  Female   26       1  77780.29              1   \n",
       "\n",
       "      HasCrCard  IsActiveMember  EstimatedSalary  \n",
       "2656          0               1        111676.63  \n",
       "445           0               1        183049.41  "
      ]
     },
     "execution_count": 38,
     "metadata": {},
     "output_type": "execute_result"
    }
   ],
   "source": [
    "Xraw.sample(2)"
   ]
  },
  {
   "cell_type": "code",
   "execution_count": 39,
   "metadata": {
    "ExecuteTime": {
     "end_time": "2020-11-28T22:24:42.671258Z",
     "start_time": "2020-11-28T22:24:42.660589Z"
    }
   },
   "outputs": [
    {
     "name": "stdout",
     "output_type": "stream",
     "text": [
      "prop of churn in train: 0.2055\n",
      "prop of churn in test: 0.1965\n"
     ]
    }
   ],
   "source": [
    "dumb = train_test_split(Xraw, yraw, test_size=0.2, random_state=42)\n",
    "X, X_test, y, y_test = dumb[0].copy(), dumb[1], dumb[2].copy(), dumb[3]\n",
    "# check if proportion is stratified (it should):\n",
    "print(f'prop of churn in train: {y.sum() / len(y)}')\n",
    "print(f'prop of churn in test: {y_test.sum() / len(y_test)}')"
   ]
  },
  {
   "cell_type": "code",
   "execution_count": null,
   "metadata": {},
   "outputs": [],
   "source": []
  },
  {
   "cell_type": "markdown",
   "metadata": {},
   "source": [
    "# Feature Engineering:"
   ]
  },
  {
   "cell_type": "code",
   "execution_count": 40,
   "metadata": {
    "ExecuteTime": {
     "end_time": "2020-11-28T22:24:45.072234Z",
     "start_time": "2020-11-28T22:24:45.068368Z"
    }
   },
   "outputs": [],
   "source": [
    "#mean_sal = X.EstimatedSalary.mean()\n",
    "#print(f'Mean Salary: {mean_sal:,.2f}')\n",
    "#X['Return'] = X.loc[:, 'EstimatedSalary'].apply(lambda x: int(x > mean_sal))\n",
    "#X_test['Return'] = X_test.loc[:, 'EstimatedSalary'].apply(lambda x: int(x > mean_sal))"
   ]
  },
  {
   "cell_type": "markdown",
   "metadata": {},
   "source": [
    "# Pipeline"
   ]
  },
  {
   "cell_type": "code",
   "execution_count": 41,
   "metadata": {
    "ExecuteTime": {
     "end_time": "2020-11-28T22:24:46.888132Z",
     "start_time": "2020-11-28T22:24:46.884113Z"
    }
   },
   "outputs": [],
   "source": [
    "ohe = OneHotEncoder()\n",
    "ct = make_column_transformer((ohe, ['Geography', 'Gender']), remainder='passthrough')\n",
    "logreg = LogisticRegression(solver='liblinear', random_state=1)"
   ]
  },
  {
   "cell_type": "code",
   "execution_count": 42,
   "metadata": {
    "ExecuteTime": {
     "end_time": "2020-11-28T22:24:50.398426Z",
     "start_time": "2020-11-28T22:24:50.348082Z"
    }
   },
   "outputs": [],
   "source": [
    "pipe = make_pipeline(ct, logreg)\n",
    "pipe.fit(X, y);"
   ]
  },
  {
   "cell_type": "code",
   "execution_count": 43,
   "metadata": {
    "ExecuteTime": {
     "end_time": "2020-11-28T22:24:52.310406Z",
     "start_time": "2020-11-28T22:24:52.292404Z"
    }
   },
   "outputs": [
    {
     "data": {
      "text/plain": [
       "array([0, 0, 0, ..., 0, 0, 0])"
      ]
     },
     "execution_count": 43,
     "metadata": {},
     "output_type": "execute_result"
    }
   ],
   "source": [
    "pipe.predict(X)"
   ]
  },
  {
   "cell_type": "code",
   "execution_count": 44,
   "metadata": {
    "ExecuteTime": {
     "end_time": "2020-11-28T22:24:54.984022Z",
     "start_time": "2020-11-28T22:24:54.828168Z"
    }
   },
   "outputs": [
    {
     "data": {
      "text/plain": [
       "0.792"
      ]
     },
     "execution_count": 44,
     "metadata": {},
     "output_type": "execute_result"
    }
   ],
   "source": [
    "cross_val_score(pipe, X, y, cv=5, scoring='accuracy').mean()"
   ]
  },
  {
   "cell_type": "code",
   "execution_count": 45,
   "metadata": {
    "ExecuteTime": {
     "end_time": "2020-11-28T22:24:57.723220Z",
     "start_time": "2020-11-28T22:24:57.716351Z"
    }
   },
   "outputs": [
    {
     "data": {
      "text/plain": [
       "{'logisticregression__penalty': ['l1', 'l2'],\n",
       " 'logisticregression__C': [0.1, 1.0, 10.0]}"
      ]
     },
     "execution_count": 45,
     "metadata": {},
     "output_type": "execute_result"
    }
   ],
   "source": [
    "params = {}\n",
    "params['logisticregression__penalty'] = ['l1', 'l2']\n",
    "params['logisticregression__C'] = [0.1, 1., 10.]\n",
    "params"
   ]
  },
  {
   "cell_type": "code",
   "execution_count": 46,
   "metadata": {
    "ExecuteTime": {
     "end_time": "2020-11-28T22:24:59.852511Z",
     "start_time": "2020-11-28T22:24:58.588622Z"
    }
   },
   "outputs": [],
   "source": [
    "grid = GridSearchCV(pipe, params, cv=5, scoring='accuracy')\n",
    "grid.fit(X, y);"
   ]
  },
  {
   "cell_type": "code",
   "execution_count": 47,
   "metadata": {
    "ExecuteTime": {
     "end_time": "2020-11-28T22:25:02.268064Z",
     "start_time": "2020-11-28T22:25:02.244700Z"
    }
   },
   "outputs": [
    {
     "data": {
      "text/html": [
       "<div>\n",
       "<style scoped>\n",
       "    .dataframe tbody tr th:only-of-type {\n",
       "        vertical-align: middle;\n",
       "    }\n",
       "\n",
       "    .dataframe tbody tr th {\n",
       "        vertical-align: top;\n",
       "    }\n",
       "\n",
       "    .dataframe thead th {\n",
       "        text-align: right;\n",
       "    }\n",
       "</style>\n",
       "<table border=\"1\" class=\"dataframe\">\n",
       "  <thead>\n",
       "    <tr style=\"text-align: right;\">\n",
       "      <th></th>\n",
       "      <th>mean_fit_time</th>\n",
       "      <th>std_fit_time</th>\n",
       "      <th>mean_score_time</th>\n",
       "      <th>std_score_time</th>\n",
       "      <th>param_logisticregression__C</th>\n",
       "      <th>param_logisticregression__penalty</th>\n",
       "      <th>params</th>\n",
       "      <th>split0_test_score</th>\n",
       "      <th>split1_test_score</th>\n",
       "      <th>split2_test_score</th>\n",
       "      <th>split3_test_score</th>\n",
       "      <th>split4_test_score</th>\n",
       "      <th>mean_test_score</th>\n",
       "      <th>std_test_score</th>\n",
       "      <th>rank_test_score</th>\n",
       "    </tr>\n",
       "  </thead>\n",
       "  <tbody>\n",
       "    <tr>\n",
       "      <th>2</th>\n",
       "      <td>0.056967</td>\n",
       "      <td>0.019259</td>\n",
       "      <td>0.003020</td>\n",
       "      <td>0.000055</td>\n",
       "      <td>1</td>\n",
       "      <td>l1</td>\n",
       "      <td>{'logisticregression__C': 1.0, 'logisticregres...</td>\n",
       "      <td>0.803750</td>\n",
       "      <td>0.796875</td>\n",
       "      <td>0.818750</td>\n",
       "      <td>0.813125</td>\n",
       "      <td>0.822500</td>\n",
       "      <td>0.811000</td>\n",
       "      <td>0.009475</td>\n",
       "      <td>1</td>\n",
       "    </tr>\n",
       "    <tr>\n",
       "      <th>4</th>\n",
       "      <td>0.028746</td>\n",
       "      <td>0.004583</td>\n",
       "      <td>0.003022</td>\n",
       "      <td>0.000083</td>\n",
       "      <td>10</td>\n",
       "      <td>l1</td>\n",
       "      <td>{'logisticregression__C': 10.0, 'logisticregre...</td>\n",
       "      <td>0.803750</td>\n",
       "      <td>0.795000</td>\n",
       "      <td>0.819375</td>\n",
       "      <td>0.811875</td>\n",
       "      <td>0.823125</td>\n",
       "      <td>0.810625</td>\n",
       "      <td>0.010255</td>\n",
       "      <td>2</td>\n",
       "    </tr>\n",
       "    <tr>\n",
       "      <th>0</th>\n",
       "      <td>0.054586</td>\n",
       "      <td>0.014241</td>\n",
       "      <td>0.003653</td>\n",
       "      <td>0.000549</td>\n",
       "      <td>0.1</td>\n",
       "      <td>l1</td>\n",
       "      <td>{'logisticregression__C': 0.1, 'logisticregres...</td>\n",
       "      <td>0.804375</td>\n",
       "      <td>0.798750</td>\n",
       "      <td>0.813125</td>\n",
       "      <td>0.813750</td>\n",
       "      <td>0.820000</td>\n",
       "      <td>0.810000</td>\n",
       "      <td>0.007510</td>\n",
       "      <td>3</td>\n",
       "    </tr>\n",
       "    <tr>\n",
       "      <th>1</th>\n",
       "      <td>0.025282</td>\n",
       "      <td>0.002935</td>\n",
       "      <td>0.003041</td>\n",
       "      <td>0.000107</td>\n",
       "      <td>0.1</td>\n",
       "      <td>l2</td>\n",
       "      <td>{'logisticregression__C': 0.1, 'logisticregres...</td>\n",
       "      <td>0.798750</td>\n",
       "      <td>0.782500</td>\n",
       "      <td>0.793125</td>\n",
       "      <td>0.793750</td>\n",
       "      <td>0.791875</td>\n",
       "      <td>0.792000</td>\n",
       "      <td>0.005294</td>\n",
       "      <td>4</td>\n",
       "    </tr>\n",
       "    <tr>\n",
       "      <th>3</th>\n",
       "      <td>0.025696</td>\n",
       "      <td>0.001905</td>\n",
       "      <td>0.003070</td>\n",
       "      <td>0.000077</td>\n",
       "      <td>1</td>\n",
       "      <td>l2</td>\n",
       "      <td>{'logisticregression__C': 1.0, 'logisticregres...</td>\n",
       "      <td>0.798750</td>\n",
       "      <td>0.782500</td>\n",
       "      <td>0.793125</td>\n",
       "      <td>0.793750</td>\n",
       "      <td>0.791875</td>\n",
       "      <td>0.792000</td>\n",
       "      <td>0.005294</td>\n",
       "      <td>4</td>\n",
       "    </tr>\n",
       "    <tr>\n",
       "      <th>5</th>\n",
       "      <td>0.024348</td>\n",
       "      <td>0.001582</td>\n",
       "      <td>0.002977</td>\n",
       "      <td>0.000030</td>\n",
       "      <td>10</td>\n",
       "      <td>l2</td>\n",
       "      <td>{'logisticregression__C': 10.0, 'logisticregre...</td>\n",
       "      <td>0.798750</td>\n",
       "      <td>0.782500</td>\n",
       "      <td>0.793125</td>\n",
       "      <td>0.793750</td>\n",
       "      <td>0.791875</td>\n",
       "      <td>0.792000</td>\n",
       "      <td>0.005294</td>\n",
       "      <td>4</td>\n",
       "    </tr>\n",
       "  </tbody>\n",
       "</table>\n",
       "</div>"
      ],
      "text/plain": [
       "   mean_fit_time  std_fit_time  mean_score_time  std_score_time  \\\n",
       "2       0.056967      0.019259         0.003020        0.000055   \n",
       "4       0.028746      0.004583         0.003022        0.000083   \n",
       "0       0.054586      0.014241         0.003653        0.000549   \n",
       "1       0.025282      0.002935         0.003041        0.000107   \n",
       "3       0.025696      0.001905         0.003070        0.000077   \n",
       "5       0.024348      0.001582         0.002977        0.000030   \n",
       "\n",
       "  param_logisticregression__C param_logisticregression__penalty  \\\n",
       "2                           1                                l1   \n",
       "4                          10                                l1   \n",
       "0                         0.1                                l1   \n",
       "1                         0.1                                l2   \n",
       "3                           1                                l2   \n",
       "5                          10                                l2   \n",
       "\n",
       "                                              params  split0_test_score  \\\n",
       "2  {'logisticregression__C': 1.0, 'logisticregres...           0.803750   \n",
       "4  {'logisticregression__C': 10.0, 'logisticregre...           0.803750   \n",
       "0  {'logisticregression__C': 0.1, 'logisticregres...           0.804375   \n",
       "1  {'logisticregression__C': 0.1, 'logisticregres...           0.798750   \n",
       "3  {'logisticregression__C': 1.0, 'logisticregres...           0.798750   \n",
       "5  {'logisticregression__C': 10.0, 'logisticregre...           0.798750   \n",
       "\n",
       "   split1_test_score  split2_test_score  split3_test_score  split4_test_score  \\\n",
       "2           0.796875           0.818750           0.813125           0.822500   \n",
       "4           0.795000           0.819375           0.811875           0.823125   \n",
       "0           0.798750           0.813125           0.813750           0.820000   \n",
       "1           0.782500           0.793125           0.793750           0.791875   \n",
       "3           0.782500           0.793125           0.793750           0.791875   \n",
       "5           0.782500           0.793125           0.793750           0.791875   \n",
       "\n",
       "   mean_test_score  std_test_score  rank_test_score  \n",
       "2         0.811000        0.009475                1  \n",
       "4         0.810625        0.010255                2  \n",
       "0         0.810000        0.007510                3  \n",
       "1         0.792000        0.005294                4  \n",
       "3         0.792000        0.005294                4  \n",
       "5         0.792000        0.005294                4  "
      ]
     },
     "execution_count": 47,
     "metadata": {},
     "output_type": "execute_result"
    }
   ],
   "source": [
    "results = pd.DataFrame(grid.cv_results_)\n",
    "results.sort_values('rank_test_score', inplace=True)\n",
    "results"
   ]
  },
  {
   "cell_type": "code",
   "execution_count": 71,
   "metadata": {
    "ExecuteTime": {
     "end_time": "2020-11-28T22:34:06.542446Z",
     "start_time": "2020-11-28T22:34:06.538260Z"
    }
   },
   "outputs": [],
   "source": [
    "rf = RandomForestClassifier(n_estimators=100)"
   ]
  },
  {
   "cell_type": "code",
   "execution_count": 72,
   "metadata": {
    "ExecuteTime": {
     "end_time": "2020-11-28T22:34:07.588211Z",
     "start_time": "2020-11-28T22:34:06.920843Z"
    }
   },
   "outputs": [],
   "source": [
    "pipe = make_pipeline(ct, rf)\n",
    "pipe.fit(X, y);"
   ]
  },
  {
   "cell_type": "code",
   "execution_count": 68,
   "metadata": {
    "ExecuteTime": {
     "end_time": "2020-11-28T22:33:44.114759Z",
     "start_time": "2020-11-28T22:33:41.393447Z"
    }
   },
   "outputs": [
    {
     "data": {
      "text/plain": [
       "0.85875"
      ]
     },
     "execution_count": 68,
     "metadata": {},
     "output_type": "execute_result"
    }
   ],
   "source": [
    "cross_val_score(pipe, X, y, cv=5, scoring='accuracy').mean()"
   ]
  },
  {
   "cell_type": "code",
   "execution_count": 77,
   "metadata": {
    "ExecuteTime": {
     "end_time": "2020-11-28T22:35:23.835843Z",
     "start_time": "2020-11-28T22:35:23.826308Z"
    }
   },
   "outputs": [
    {
     "data": {
      "text/plain": [
       "dict_keys(['columntransformer', 'randomforestclassifier'])"
      ]
     },
     "execution_count": 77,
     "metadata": {},
     "output_type": "execute_result"
    }
   ],
   "source": [
    "pipe.named_steps.keys()"
   ]
  },
  {
   "cell_type": "code",
   "execution_count": 80,
   "metadata": {
    "ExecuteTime": {
     "end_time": "2020-11-28T22:36:03.345674Z",
     "start_time": "2020-11-28T22:36:03.339328Z"
    }
   },
   "outputs": [
    {
     "data": {
      "text/plain": [
       "{'randomforestclassifier__min_samples_split': [2, 10, 20],\n",
       " 'randomforestclassifier__min_samples_leaf': [1, 10, 50],\n",
       " 'randomforestclassifier__class_weight': [None, 'balanced']}"
      ]
     },
     "execution_count": 80,
     "metadata": {},
     "output_type": "execute_result"
    }
   ],
   "source": [
    "params = {}\n",
    "params['randomforestclassifier__min_samples_split'] = [2, 10, 20]\n",
    "params['randomforestclassifier__min_samples_leaf'] = [1, 10, 50]\n",
    "params['randomforestclassifier__class_weight'] = [None, 'balanced']\n",
    "params"
   ]
  },
  {
   "cell_type": "code",
   "execution_count": 81,
   "metadata": {
    "ExecuteTime": {
     "end_time": "2020-11-28T22:36:47.220428Z",
     "start_time": "2020-11-28T22:36:04.243609Z"
    }
   },
   "outputs": [],
   "source": [
    "grid = GridSearchCV(pipe, params, cv=5, scoring='accuracy')\n",
    "grid.fit(X, y);"
   ]
  },
  {
   "cell_type": "code",
   "execution_count": 82,
   "metadata": {
    "ExecuteTime": {
     "end_time": "2020-11-28T22:36:58.163273Z",
     "start_time": "2020-11-28T22:36:58.132094Z"
    }
   },
   "outputs": [
    {
     "data": {
      "text/html": [
       "<div>\n",
       "<style scoped>\n",
       "    .dataframe tbody tr th:only-of-type {\n",
       "        vertical-align: middle;\n",
       "    }\n",
       "\n",
       "    .dataframe tbody tr th {\n",
       "        vertical-align: top;\n",
       "    }\n",
       "\n",
       "    .dataframe thead th {\n",
       "        text-align: right;\n",
       "    }\n",
       "</style>\n",
       "<table border=\"1\" class=\"dataframe\">\n",
       "  <thead>\n",
       "    <tr style=\"text-align: right;\">\n",
       "      <th></th>\n",
       "      <th>mean_fit_time</th>\n",
       "      <th>std_fit_time</th>\n",
       "      <th>mean_score_time</th>\n",
       "      <th>std_score_time</th>\n",
       "      <th>param_randomforestclassifier__class_weight</th>\n",
       "      <th>param_randomforestclassifier__min_samples_leaf</th>\n",
       "      <th>param_randomforestclassifier__min_samples_split</th>\n",
       "      <th>params</th>\n",
       "      <th>split0_test_score</th>\n",
       "      <th>split1_test_score</th>\n",
       "      <th>split2_test_score</th>\n",
       "      <th>split3_test_score</th>\n",
       "      <th>split4_test_score</th>\n",
       "      <th>mean_test_score</th>\n",
       "      <th>std_test_score</th>\n",
       "      <th>rank_test_score</th>\n",
       "    </tr>\n",
       "  </thead>\n",
       "  <tbody>\n",
       "    <tr>\n",
       "      <th>1</th>\n",
       "      <td>0.497173</td>\n",
       "      <td>0.024813</td>\n",
       "      <td>0.027072</td>\n",
       "      <td>0.001505</td>\n",
       "      <td>None</td>\n",
       "      <td>1</td>\n",
       "      <td>10</td>\n",
       "      <td>{'randomforestclassifier__class_weight': None,...</td>\n",
       "      <td>0.871875</td>\n",
       "      <td>0.863125</td>\n",
       "      <td>0.869375</td>\n",
       "      <td>0.860625</td>\n",
       "      <td>0.855625</td>\n",
       "      <td>0.864125</td>\n",
       "      <td>0.005884</td>\n",
       "      <td>1</td>\n",
       "    </tr>\n",
       "    <tr>\n",
       "      <th>5</th>\n",
       "      <td>0.495733</td>\n",
       "      <td>0.025690</td>\n",
       "      <td>0.028698</td>\n",
       "      <td>0.003235</td>\n",
       "      <td>None</td>\n",
       "      <td>10</td>\n",
       "      <td>20</td>\n",
       "      <td>{'randomforestclassifier__class_weight': None,...</td>\n",
       "      <td>0.871875</td>\n",
       "      <td>0.855000</td>\n",
       "      <td>0.865000</td>\n",
       "      <td>0.861250</td>\n",
       "      <td>0.857500</td>\n",
       "      <td>0.862125</td>\n",
       "      <td>0.005937</td>\n",
       "      <td>2</td>\n",
       "    </tr>\n",
       "    <tr>\n",
       "      <th>3</th>\n",
       "      <td>0.478270</td>\n",
       "      <td>0.035899</td>\n",
       "      <td>0.029224</td>\n",
       "      <td>0.003168</td>\n",
       "      <td>None</td>\n",
       "      <td>10</td>\n",
       "      <td>2</td>\n",
       "      <td>{'randomforestclassifier__class_weight': None,...</td>\n",
       "      <td>0.874375</td>\n",
       "      <td>0.854375</td>\n",
       "      <td>0.859375</td>\n",
       "      <td>0.862500</td>\n",
       "      <td>0.858125</td>\n",
       "      <td>0.861750</td>\n",
       "      <td>0.006828</td>\n",
       "      <td>3</td>\n",
       "    </tr>\n",
       "    <tr>\n",
       "      <th>4</th>\n",
       "      <td>0.471356</td>\n",
       "      <td>0.017378</td>\n",
       "      <td>0.027157</td>\n",
       "      <td>0.002603</td>\n",
       "      <td>None</td>\n",
       "      <td>10</td>\n",
       "      <td>10</td>\n",
       "      <td>{'randomforestclassifier__class_weight': None,...</td>\n",
       "      <td>0.873125</td>\n",
       "      <td>0.855000</td>\n",
       "      <td>0.863125</td>\n",
       "      <td>0.861250</td>\n",
       "      <td>0.856250</td>\n",
       "      <td>0.861750</td>\n",
       "      <td>0.006440</td>\n",
       "      <td>3</td>\n",
       "    </tr>\n",
       "    <tr>\n",
       "      <th>2</th>\n",
       "      <td>0.470955</td>\n",
       "      <td>0.025574</td>\n",
       "      <td>0.026442</td>\n",
       "      <td>0.002273</td>\n",
       "      <td>None</td>\n",
       "      <td>1</td>\n",
       "      <td>20</td>\n",
       "      <td>{'randomforestclassifier__class_weight': None,...</td>\n",
       "      <td>0.875625</td>\n",
       "      <td>0.852500</td>\n",
       "      <td>0.863750</td>\n",
       "      <td>0.856875</td>\n",
       "      <td>0.859375</td>\n",
       "      <td>0.861625</td>\n",
       "      <td>0.007892</td>\n",
       "      <td>5</td>\n",
       "    </tr>\n",
       "    <tr>\n",
       "      <th>9</th>\n",
       "      <td>0.555740</td>\n",
       "      <td>0.039446</td>\n",
       "      <td>0.029971</td>\n",
       "      <td>0.001701</td>\n",
       "      <td>balanced</td>\n",
       "      <td>1</td>\n",
       "      <td>2</td>\n",
       "      <td>{'randomforestclassifier__class_weight': 'bala...</td>\n",
       "      <td>0.859375</td>\n",
       "      <td>0.858125</td>\n",
       "      <td>0.865625</td>\n",
       "      <td>0.858750</td>\n",
       "      <td>0.856875</td>\n",
       "      <td>0.859750</td>\n",
       "      <td>0.003052</td>\n",
       "      <td>6</td>\n",
       "    </tr>\n",
       "    <tr>\n",
       "      <th>0</th>\n",
       "      <td>0.524265</td>\n",
       "      <td>0.015461</td>\n",
       "      <td>0.028026</td>\n",
       "      <td>0.000315</td>\n",
       "      <td>None</td>\n",
       "      <td>1</td>\n",
       "      <td>2</td>\n",
       "      <td>{'randomforestclassifier__class_weight': None,...</td>\n",
       "      <td>0.858750</td>\n",
       "      <td>0.855000</td>\n",
       "      <td>0.866250</td>\n",
       "      <td>0.859375</td>\n",
       "      <td>0.858750</td>\n",
       "      <td>0.859625</td>\n",
       "      <td>0.003657</td>\n",
       "      <td>7</td>\n",
       "    </tr>\n",
       "    <tr>\n",
       "      <th>10</th>\n",
       "      <td>0.482370</td>\n",
       "      <td>0.004330</td>\n",
       "      <td>0.027635</td>\n",
       "      <td>0.001025</td>\n",
       "      <td>balanced</td>\n",
       "      <td>1</td>\n",
       "      <td>10</td>\n",
       "      <td>{'randomforestclassifier__class_weight': 'bala...</td>\n",
       "      <td>0.843125</td>\n",
       "      <td>0.855625</td>\n",
       "      <td>0.860000</td>\n",
       "      <td>0.845625</td>\n",
       "      <td>0.850000</td>\n",
       "      <td>0.850875</td>\n",
       "      <td>0.006232</td>\n",
       "      <td>8</td>\n",
       "    </tr>\n",
       "    <tr>\n",
       "      <th>8</th>\n",
       "      <td>0.386335</td>\n",
       "      <td>0.037143</td>\n",
       "      <td>0.024576</td>\n",
       "      <td>0.003073</td>\n",
       "      <td>None</td>\n",
       "      <td>50</td>\n",
       "      <td>20</td>\n",
       "      <td>{'randomforestclassifier__class_weight': None,...</td>\n",
       "      <td>0.846875</td>\n",
       "      <td>0.838750</td>\n",
       "      <td>0.842500</td>\n",
       "      <td>0.842500</td>\n",
       "      <td>0.843125</td>\n",
       "      <td>0.842750</td>\n",
       "      <td>0.002580</td>\n",
       "      <td>9</td>\n",
       "    </tr>\n",
       "    <tr>\n",
       "      <th>7</th>\n",
       "      <td>0.387331</td>\n",
       "      <td>0.025010</td>\n",
       "      <td>0.023265</td>\n",
       "      <td>0.002356</td>\n",
       "      <td>None</td>\n",
       "      <td>50</td>\n",
       "      <td>10</td>\n",
       "      <td>{'randomforestclassifier__class_weight': None,...</td>\n",
       "      <td>0.839375</td>\n",
       "      <td>0.834375</td>\n",
       "      <td>0.847500</td>\n",
       "      <td>0.845625</td>\n",
       "      <td>0.842500</td>\n",
       "      <td>0.841875</td>\n",
       "      <td>0.004660</td>\n",
       "      <td>10</td>\n",
       "    </tr>\n",
       "    <tr>\n",
       "      <th>11</th>\n",
       "      <td>0.480810</td>\n",
       "      <td>0.028157</td>\n",
       "      <td>0.028042</td>\n",
       "      <td>0.001558</td>\n",
       "      <td>balanced</td>\n",
       "      <td>1</td>\n",
       "      <td>20</td>\n",
       "      <td>{'randomforestclassifier__class_weight': 'bala...</td>\n",
       "      <td>0.831875</td>\n",
       "      <td>0.849375</td>\n",
       "      <td>0.857500</td>\n",
       "      <td>0.830000</td>\n",
       "      <td>0.838125</td>\n",
       "      <td>0.841375</td>\n",
       "      <td>0.010528</td>\n",
       "      <td>11</td>\n",
       "    </tr>\n",
       "    <tr>\n",
       "      <th>6</th>\n",
       "      <td>0.372312</td>\n",
       "      <td>0.014708</td>\n",
       "      <td>0.022329</td>\n",
       "      <td>0.001198</td>\n",
       "      <td>None</td>\n",
       "      <td>50</td>\n",
       "      <td>2</td>\n",
       "      <td>{'randomforestclassifier__class_weight': None,...</td>\n",
       "      <td>0.839375</td>\n",
       "      <td>0.833125</td>\n",
       "      <td>0.841875</td>\n",
       "      <td>0.839375</td>\n",
       "      <td>0.845625</td>\n",
       "      <td>0.839875</td>\n",
       "      <td>0.004077</td>\n",
       "      <td>12</td>\n",
       "    </tr>\n",
       "    <tr>\n",
       "      <th>14</th>\n",
       "      <td>0.427099</td>\n",
       "      <td>0.007230</td>\n",
       "      <td>0.025850</td>\n",
       "      <td>0.002082</td>\n",
       "      <td>balanced</td>\n",
       "      <td>10</td>\n",
       "      <td>20</td>\n",
       "      <td>{'randomforestclassifier__class_weight': 'bala...</td>\n",
       "      <td>0.822500</td>\n",
       "      <td>0.836250</td>\n",
       "      <td>0.843125</td>\n",
       "      <td>0.813125</td>\n",
       "      <td>0.825625</td>\n",
       "      <td>0.828125</td>\n",
       "      <td>0.010525</td>\n",
       "      <td>13</td>\n",
       "    </tr>\n",
       "    <tr>\n",
       "      <th>12</th>\n",
       "      <td>0.460283</td>\n",
       "      <td>0.020382</td>\n",
       "      <td>0.025967</td>\n",
       "      <td>0.001324</td>\n",
       "      <td>balanced</td>\n",
       "      <td>10</td>\n",
       "      <td>2</td>\n",
       "      <td>{'randomforestclassifier__class_weight': 'bala...</td>\n",
       "      <td>0.826875</td>\n",
       "      <td>0.832500</td>\n",
       "      <td>0.838750</td>\n",
       "      <td>0.811875</td>\n",
       "      <td>0.823125</td>\n",
       "      <td>0.826625</td>\n",
       "      <td>0.009071</td>\n",
       "      <td>14</td>\n",
       "    </tr>\n",
       "    <tr>\n",
       "      <th>13</th>\n",
       "      <td>0.458138</td>\n",
       "      <td>0.024036</td>\n",
       "      <td>0.025606</td>\n",
       "      <td>0.000888</td>\n",
       "      <td>balanced</td>\n",
       "      <td>10</td>\n",
       "      <td>10</td>\n",
       "      <td>{'randomforestclassifier__class_weight': 'bala...</td>\n",
       "      <td>0.820000</td>\n",
       "      <td>0.830625</td>\n",
       "      <td>0.838125</td>\n",
       "      <td>0.811875</td>\n",
       "      <td>0.826250</td>\n",
       "      <td>0.825375</td>\n",
       "      <td>0.008967</td>\n",
       "      <td>15</td>\n",
       "    </tr>\n",
       "    <tr>\n",
       "      <th>17</th>\n",
       "      <td>0.339600</td>\n",
       "      <td>0.006726</td>\n",
       "      <td>0.021920</td>\n",
       "      <td>0.001403</td>\n",
       "      <td>balanced</td>\n",
       "      <td>50</td>\n",
       "      <td>20</td>\n",
       "      <td>{'randomforestclassifier__class_weight': 'bala...</td>\n",
       "      <td>0.768750</td>\n",
       "      <td>0.790000</td>\n",
       "      <td>0.790000</td>\n",
       "      <td>0.757500</td>\n",
       "      <td>0.783750</td>\n",
       "      <td>0.778000</td>\n",
       "      <td>0.012860</td>\n",
       "      <td>16</td>\n",
       "    </tr>\n",
       "    <tr>\n",
       "      <th>15</th>\n",
       "      <td>0.336501</td>\n",
       "      <td>0.006134</td>\n",
       "      <td>0.023007</td>\n",
       "      <td>0.001792</td>\n",
       "      <td>balanced</td>\n",
       "      <td>50</td>\n",
       "      <td>2</td>\n",
       "      <td>{'randomforestclassifier__class_weight': 'bala...</td>\n",
       "      <td>0.766250</td>\n",
       "      <td>0.793750</td>\n",
       "      <td>0.792500</td>\n",
       "      <td>0.755625</td>\n",
       "      <td>0.776875</td>\n",
       "      <td>0.777000</td>\n",
       "      <td>0.014787</td>\n",
       "      <td>17</td>\n",
       "    </tr>\n",
       "    <tr>\n",
       "      <th>16</th>\n",
       "      <td>0.342436</td>\n",
       "      <td>0.007535</td>\n",
       "      <td>0.022100</td>\n",
       "      <td>0.001614</td>\n",
       "      <td>balanced</td>\n",
       "      <td>50</td>\n",
       "      <td>10</td>\n",
       "      <td>{'randomforestclassifier__class_weight': 'bala...</td>\n",
       "      <td>0.765000</td>\n",
       "      <td>0.785000</td>\n",
       "      <td>0.796875</td>\n",
       "      <td>0.764375</td>\n",
       "      <td>0.771875</td>\n",
       "      <td>0.776625</td>\n",
       "      <td>0.012554</td>\n",
       "      <td>18</td>\n",
       "    </tr>\n",
       "  </tbody>\n",
       "</table>\n",
       "</div>"
      ],
      "text/plain": [
       "    mean_fit_time  std_fit_time  mean_score_time  std_score_time  \\\n",
       "1        0.497173      0.024813         0.027072        0.001505   \n",
       "5        0.495733      0.025690         0.028698        0.003235   \n",
       "3        0.478270      0.035899         0.029224        0.003168   \n",
       "4        0.471356      0.017378         0.027157        0.002603   \n",
       "2        0.470955      0.025574         0.026442        0.002273   \n",
       "9        0.555740      0.039446         0.029971        0.001701   \n",
       "0        0.524265      0.015461         0.028026        0.000315   \n",
       "10       0.482370      0.004330         0.027635        0.001025   \n",
       "8        0.386335      0.037143         0.024576        0.003073   \n",
       "7        0.387331      0.025010         0.023265        0.002356   \n",
       "11       0.480810      0.028157         0.028042        0.001558   \n",
       "6        0.372312      0.014708         0.022329        0.001198   \n",
       "14       0.427099      0.007230         0.025850        0.002082   \n",
       "12       0.460283      0.020382         0.025967        0.001324   \n",
       "13       0.458138      0.024036         0.025606        0.000888   \n",
       "17       0.339600      0.006726         0.021920        0.001403   \n",
       "15       0.336501      0.006134         0.023007        0.001792   \n",
       "16       0.342436      0.007535         0.022100        0.001614   \n",
       "\n",
       "   param_randomforestclassifier__class_weight  \\\n",
       "1                                        None   \n",
       "5                                        None   \n",
       "3                                        None   \n",
       "4                                        None   \n",
       "2                                        None   \n",
       "9                                    balanced   \n",
       "0                                        None   \n",
       "10                                   balanced   \n",
       "8                                        None   \n",
       "7                                        None   \n",
       "11                                   balanced   \n",
       "6                                        None   \n",
       "14                                   balanced   \n",
       "12                                   balanced   \n",
       "13                                   balanced   \n",
       "17                                   balanced   \n",
       "15                                   balanced   \n",
       "16                                   balanced   \n",
       "\n",
       "   param_randomforestclassifier__min_samples_leaf  \\\n",
       "1                                               1   \n",
       "5                                              10   \n",
       "3                                              10   \n",
       "4                                              10   \n",
       "2                                               1   \n",
       "9                                               1   \n",
       "0                                               1   \n",
       "10                                              1   \n",
       "8                                              50   \n",
       "7                                              50   \n",
       "11                                              1   \n",
       "6                                              50   \n",
       "14                                             10   \n",
       "12                                             10   \n",
       "13                                             10   \n",
       "17                                             50   \n",
       "15                                             50   \n",
       "16                                             50   \n",
       "\n",
       "   param_randomforestclassifier__min_samples_split  \\\n",
       "1                                               10   \n",
       "5                                               20   \n",
       "3                                                2   \n",
       "4                                               10   \n",
       "2                                               20   \n",
       "9                                                2   \n",
       "0                                                2   \n",
       "10                                              10   \n",
       "8                                               20   \n",
       "7                                               10   \n",
       "11                                              20   \n",
       "6                                                2   \n",
       "14                                              20   \n",
       "12                                               2   \n",
       "13                                              10   \n",
       "17                                              20   \n",
       "15                                               2   \n",
       "16                                              10   \n",
       "\n",
       "                                               params  split0_test_score  \\\n",
       "1   {'randomforestclassifier__class_weight': None,...           0.871875   \n",
       "5   {'randomforestclassifier__class_weight': None,...           0.871875   \n",
       "3   {'randomforestclassifier__class_weight': None,...           0.874375   \n",
       "4   {'randomforestclassifier__class_weight': None,...           0.873125   \n",
       "2   {'randomforestclassifier__class_weight': None,...           0.875625   \n",
       "9   {'randomforestclassifier__class_weight': 'bala...           0.859375   \n",
       "0   {'randomforestclassifier__class_weight': None,...           0.858750   \n",
       "10  {'randomforestclassifier__class_weight': 'bala...           0.843125   \n",
       "8   {'randomforestclassifier__class_weight': None,...           0.846875   \n",
       "7   {'randomforestclassifier__class_weight': None,...           0.839375   \n",
       "11  {'randomforestclassifier__class_weight': 'bala...           0.831875   \n",
       "6   {'randomforestclassifier__class_weight': None,...           0.839375   \n",
       "14  {'randomforestclassifier__class_weight': 'bala...           0.822500   \n",
       "12  {'randomforestclassifier__class_weight': 'bala...           0.826875   \n",
       "13  {'randomforestclassifier__class_weight': 'bala...           0.820000   \n",
       "17  {'randomforestclassifier__class_weight': 'bala...           0.768750   \n",
       "15  {'randomforestclassifier__class_weight': 'bala...           0.766250   \n",
       "16  {'randomforestclassifier__class_weight': 'bala...           0.765000   \n",
       "\n",
       "    split1_test_score  split2_test_score  split3_test_score  \\\n",
       "1            0.863125           0.869375           0.860625   \n",
       "5            0.855000           0.865000           0.861250   \n",
       "3            0.854375           0.859375           0.862500   \n",
       "4            0.855000           0.863125           0.861250   \n",
       "2            0.852500           0.863750           0.856875   \n",
       "9            0.858125           0.865625           0.858750   \n",
       "0            0.855000           0.866250           0.859375   \n",
       "10           0.855625           0.860000           0.845625   \n",
       "8            0.838750           0.842500           0.842500   \n",
       "7            0.834375           0.847500           0.845625   \n",
       "11           0.849375           0.857500           0.830000   \n",
       "6            0.833125           0.841875           0.839375   \n",
       "14           0.836250           0.843125           0.813125   \n",
       "12           0.832500           0.838750           0.811875   \n",
       "13           0.830625           0.838125           0.811875   \n",
       "17           0.790000           0.790000           0.757500   \n",
       "15           0.793750           0.792500           0.755625   \n",
       "16           0.785000           0.796875           0.764375   \n",
       "\n",
       "    split4_test_score  mean_test_score  std_test_score  rank_test_score  \n",
       "1            0.855625         0.864125        0.005884                1  \n",
       "5            0.857500         0.862125        0.005937                2  \n",
       "3            0.858125         0.861750        0.006828                3  \n",
       "4            0.856250         0.861750        0.006440                3  \n",
       "2            0.859375         0.861625        0.007892                5  \n",
       "9            0.856875         0.859750        0.003052                6  \n",
       "0            0.858750         0.859625        0.003657                7  \n",
       "10           0.850000         0.850875        0.006232                8  \n",
       "8            0.843125         0.842750        0.002580                9  \n",
       "7            0.842500         0.841875        0.004660               10  \n",
       "11           0.838125         0.841375        0.010528               11  \n",
       "6            0.845625         0.839875        0.004077               12  \n",
       "14           0.825625         0.828125        0.010525               13  \n",
       "12           0.823125         0.826625        0.009071               14  \n",
       "13           0.826250         0.825375        0.008967               15  \n",
       "17           0.783750         0.778000        0.012860               16  \n",
       "15           0.776875         0.777000        0.014787               17  \n",
       "16           0.771875         0.776625        0.012554               18  "
      ]
     },
     "execution_count": 82,
     "metadata": {},
     "output_type": "execute_result"
    }
   ],
   "source": [
    "results = pd.DataFrame(grid.cv_results_)\n",
    "results.sort_values('rank_test_score', inplace=True)\n",
    "results"
   ]
  },
  {
   "cell_type": "code",
   "execution_count": 83,
   "metadata": {
    "ExecuteTime": {
     "end_time": "2020-11-28T22:36:58.941557Z",
     "start_time": "2020-11-28T22:36:58.923463Z"
    }
   },
   "outputs": [
    {
     "name": "stdout",
     "output_type": "stream",
     "text": [
      "0.8641249999999999\n"
     ]
    },
    {
     "data": {
      "text/plain": [
       "{'randomforestclassifier__class_weight': None,\n",
       " 'randomforestclassifier__min_samples_leaf': 1,\n",
       " 'randomforestclassifier__min_samples_split': 10}"
      ]
     },
     "execution_count": 83,
     "metadata": {},
     "output_type": "execute_result"
    }
   ],
   "source": [
    "print(grid.best_score_)\n",
    "grid.best_params_"
   ]
  },
  {
   "cell_type": "code",
   "execution_count": null,
   "metadata": {},
   "outputs": [],
   "source": []
  },
  {
   "cell_type": "code",
   "execution_count": null,
   "metadata": {},
   "outputs": [],
   "source": []
  }
 ],
 "metadata": {
  "kernelspec": {
   "display_name": "Python 3",
   "language": "python",
   "name": "python3"
  },
  "language_info": {
   "codemirror_mode": {
    "name": "ipython",
    "version": 3
   },
   "file_extension": ".py",
   "mimetype": "text/x-python",
   "name": "python",
   "nbconvert_exporter": "python",
   "pygments_lexer": "ipython3",
   "version": "3.8.1"
  },
  "toc": {
   "base_numbering": 1,
   "nav_menu": {},
   "number_sections": true,
   "sideBar": true,
   "skip_h1_title": false,
   "title_cell": "Table of Contents",
   "title_sidebar": "Contents",
   "toc_cell": false,
   "toc_position": {},
   "toc_section_display": true,
   "toc_window_display": false
  }
 },
 "nbformat": 4,
 "nbformat_minor": 4
}
