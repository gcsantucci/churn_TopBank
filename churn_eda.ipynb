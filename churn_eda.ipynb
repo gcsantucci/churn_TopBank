{
 "cells": [
  {
   "cell_type": "markdown",
   "metadata": {},
   "source": [
    "# Imports"
   ]
  },
  {
   "cell_type": "code",
   "execution_count": 61,
   "metadata": {
    "ExecuteTime": {
     "end_time": "2020-11-24T15:39:42.906791Z",
     "start_time": "2020-11-24T15:39:37.334947Z"
    }
   },
   "outputs": [],
   "source": [
    "import inflection\n",
    "import numpy as np\n",
    "import pandas as pd\n",
    "from pandas.plotting import scatter_matrix\n",
    "import matplotlib.pyplot as plt\n",
    "import seaborn as sns\n",
    "\n",
    "np.random.seed(123)\n",
    "plt.rc('figure', figsize=(10, 6))\n",
    "np.set_printoptions(precision=3)\n",
    "pd.options.display.max_rows = 20\n",
    "pd.options.display.max_columns = 30"
   ]
  },
  {
   "cell_type": "markdown",
   "metadata": {},
   "source": [
    "## Perguntas:\n",
    "\n",
    "\n",
    "1. Qual a taxa de Churn atual da empresa?\n",
    "2. Como a taxa de Churn varia por mês?\n",
    "3. Qual a Performance do modelo em classificar os clientes como churns?\n",
    "4. Qual o Faturamento da empresa, se ela impedir que os clientes de entrar em Churn através do seu modelo?\n",
    "5. Qual o valor de um cupom de desconto você daria para o cliente, a fim de evitar churn? E qual o custo total desse incentivo para a empresa?"
   ]
  },
  {
   "cell_type": "markdown",
   "metadata": {},
   "source": [
    "## Dataset Description\n",
    "\n",
    "**RowNumber**: corresponds to the record (row) number and has no effect on the output.  \n",
    "**CustomerId**: contains random values and has no effect on customer leaving the bank.  \n",
    "**Surname**: the surname of a customer has no impact on their decision to leave the bank.  \n",
    "**CreditScore**: can have an effect on customer churn, since a customer with a higher credit score is less likely to leave the bank.  \n",
    "**Geography**: a customer’s location can affect their decision to leave the bank.  \n",
    "**Gender**: it’s interesting to explore whether gender plays a role in a customer leaving the bank.  \n",
    "**Age**: this is certainly relevant, since older customers are less likely to leave their bank than younger ones.  \n",
    "**Tenure**: refers to the number of years that the customer has been a client of the bank. Normally, older clients are more loyal and less likely to leave a bank.  \n",
    "**Balance**: also a very good indicator of customer churn, as people with a higher balance in their accounts are less likely to leave the bank compared to those with lower balances.  \n",
    "**NumOfProducts**: refers to the number of products that a customer has purchased through the bank.  \n",
    "**HasCrCard**: denotes whether or not a customer has a credit card. This column is also relevant, since people with a credit card are less likely to leave the bank.  \n",
    "**IsActiveMember**: active customers are less likely to leave the bank.  \n",
    "**EstimatedSalary**: as with balance, people with lower salaries are more likely to leave the bank compared to those with higher salaries.  \n",
    "**Exited**: whether or not the customer left the bank. (0=No,1=Yes)"
   ]
  },
  {
   "cell_type": "markdown",
   "metadata": {},
   "source": [
    "##  Helper Functions"
   ]
  },
  {
   "cell_type": "code",
   "execution_count": 8,
   "metadata": {
    "ExecuteTime": {
     "end_time": "2020-11-24T15:01:53.928267Z",
     "start_time": "2020-11-24T15:01:53.924611Z"
    }
   },
   "outputs": [],
   "source": [
    "def rename_cols(old_cols):\n",
    "    snake_case = lambda x: inflection.underscore(x)\n",
    "    return list(map(snake_case, old_cols))"
   ]
  },
  {
   "cell_type": "markdown",
   "metadata": {},
   "source": [
    "##  Loading the Data"
   ]
  },
  {
   "cell_type": "code",
   "execution_count": 9,
   "metadata": {
    "ExecuteTime": {
     "end_time": "2020-11-24T15:01:57.750962Z",
     "start_time": "2020-11-24T15:01:57.726453Z"
    },
    "scrolled": true
   },
   "outputs": [
    {
     "data": {
      "text/html": [
       "<div>\n",
       "<style scoped>\n",
       "    .dataframe tbody tr th:only-of-type {\n",
       "        vertical-align: middle;\n",
       "    }\n",
       "\n",
       "    .dataframe tbody tr th {\n",
       "        vertical-align: top;\n",
       "    }\n",
       "\n",
       "    .dataframe thead th {\n",
       "        text-align: right;\n",
       "    }\n",
       "</style>\n",
       "<table border=\"1\" class=\"dataframe\">\n",
       "  <thead>\n",
       "    <tr style=\"text-align: right;\">\n",
       "      <th></th>\n",
       "      <th>RowNumber</th>\n",
       "      <th>CustomerId</th>\n",
       "      <th>Surname</th>\n",
       "      <th>CreditScore</th>\n",
       "      <th>Geography</th>\n",
       "      <th>Gender</th>\n",
       "      <th>Age</th>\n",
       "      <th>Tenure</th>\n",
       "      <th>Balance</th>\n",
       "      <th>NumOfProducts</th>\n",
       "      <th>HasCrCard</th>\n",
       "      <th>IsActiveMember</th>\n",
       "      <th>EstimatedSalary</th>\n",
       "      <th>Exited</th>\n",
       "    </tr>\n",
       "  </thead>\n",
       "  <tbody>\n",
       "    <tr>\n",
       "      <th>0</th>\n",
       "      <td>1</td>\n",
       "      <td>15634602</td>\n",
       "      <td>Hargrave</td>\n",
       "      <td>619</td>\n",
       "      <td>France</td>\n",
       "      <td>Female</td>\n",
       "      <td>42</td>\n",
       "      <td>2</td>\n",
       "      <td>0.00</td>\n",
       "      <td>1</td>\n",
       "      <td>1</td>\n",
       "      <td>1</td>\n",
       "      <td>101348.88</td>\n",
       "      <td>1</td>\n",
       "    </tr>\n",
       "    <tr>\n",
       "      <th>1</th>\n",
       "      <td>2</td>\n",
       "      <td>15647311</td>\n",
       "      <td>Hill</td>\n",
       "      <td>608</td>\n",
       "      <td>Spain</td>\n",
       "      <td>Female</td>\n",
       "      <td>41</td>\n",
       "      <td>1</td>\n",
       "      <td>83807.86</td>\n",
       "      <td>1</td>\n",
       "      <td>0</td>\n",
       "      <td>1</td>\n",
       "      <td>112542.58</td>\n",
       "      <td>0</td>\n",
       "    </tr>\n",
       "    <tr>\n",
       "      <th>2</th>\n",
       "      <td>3</td>\n",
       "      <td>15619304</td>\n",
       "      <td>Onio</td>\n",
       "      <td>502</td>\n",
       "      <td>France</td>\n",
       "      <td>Female</td>\n",
       "      <td>42</td>\n",
       "      <td>8</td>\n",
       "      <td>159660.80</td>\n",
       "      <td>3</td>\n",
       "      <td>1</td>\n",
       "      <td>0</td>\n",
       "      <td>113931.57</td>\n",
       "      <td>1</td>\n",
       "    </tr>\n",
       "    <tr>\n",
       "      <th>3</th>\n",
       "      <td>4</td>\n",
       "      <td>15701354</td>\n",
       "      <td>Boni</td>\n",
       "      <td>699</td>\n",
       "      <td>France</td>\n",
       "      <td>Female</td>\n",
       "      <td>39</td>\n",
       "      <td>1</td>\n",
       "      <td>0.00</td>\n",
       "      <td>2</td>\n",
       "      <td>0</td>\n",
       "      <td>0</td>\n",
       "      <td>93826.63</td>\n",
       "      <td>0</td>\n",
       "    </tr>\n",
       "    <tr>\n",
       "      <th>4</th>\n",
       "      <td>5</td>\n",
       "      <td>15737888</td>\n",
       "      <td>Mitchell</td>\n",
       "      <td>850</td>\n",
       "      <td>Spain</td>\n",
       "      <td>Female</td>\n",
       "      <td>43</td>\n",
       "      <td>2</td>\n",
       "      <td>125510.82</td>\n",
       "      <td>1</td>\n",
       "      <td>1</td>\n",
       "      <td>1</td>\n",
       "      <td>79084.10</td>\n",
       "      <td>0</td>\n",
       "    </tr>\n",
       "  </tbody>\n",
       "</table>\n",
       "</div>"
      ],
      "text/plain": [
       "   RowNumber  CustomerId   Surname  CreditScore Geography  Gender  Age  \\\n",
       "0          1    15634602  Hargrave          619    France  Female   42   \n",
       "1          2    15647311      Hill          608     Spain  Female   41   \n",
       "2          3    15619304      Onio          502    France  Female   42   \n",
       "3          4    15701354      Boni          699    France  Female   39   \n",
       "4          5    15737888  Mitchell          850     Spain  Female   43   \n",
       "\n",
       "   Tenure    Balance  NumOfProducts  HasCrCard  IsActiveMember  \\\n",
       "0       2       0.00              1          1               1   \n",
       "1       1   83807.86              1          0               1   \n",
       "2       8  159660.80              3          1               0   \n",
       "3       1       0.00              2          0               0   \n",
       "4       2  125510.82              1          1               1   \n",
       "\n",
       "   EstimatedSalary  Exited  \n",
       "0        101348.88       1  \n",
       "1        112542.58       0  \n",
       "2        113931.57       1  \n",
       "3         93826.63       0  \n",
       "4         79084.10       0  "
      ]
     },
     "execution_count": 9,
     "metadata": {},
     "output_type": "execute_result"
    }
   ],
   "source": [
    "df_raw = pd.read_csv('data/churn.csv')\n",
    "df_raw.head()"
   ]
  },
  {
   "cell_type": "markdown",
   "metadata": {},
   "source": [
    "# Exploratory Data Analysis"
   ]
  },
  {
   "cell_type": "markdown",
   "metadata": {
    "heading_collapsed": true
   },
   "source": [
    "## Rename Columns"
   ]
  },
  {
   "cell_type": "code",
   "execution_count": 10,
   "metadata": {
    "ExecuteTime": {
     "end_time": "2020-11-24T15:02:00.081479Z",
     "start_time": "2020-11-24T15:02:00.075524Z"
    },
    "hidden": true
   },
   "outputs": [
    {
     "data": {
      "text/plain": [
       "Index(['RowNumber', 'CustomerId', 'Surname', 'CreditScore', 'Geography',\n",
       "       'Gender', 'Age', 'Tenure', 'Balance', 'NumOfProducts', 'HasCrCard',\n",
       "       'IsActiveMember', 'EstimatedSalary', 'Exited'],\n",
       "      dtype='object')"
      ]
     },
     "execution_count": 10,
     "metadata": {},
     "output_type": "execute_result"
    }
   ],
   "source": [
    "df_raw.columns"
   ]
  },
  {
   "cell_type": "code",
   "execution_count": 26,
   "metadata": {
    "ExecuteTime": {
     "end_time": "2020-11-24T15:04:33.937271Z",
     "start_time": "2020-11-24T15:04:33.933254Z"
    },
    "hidden": true
   },
   "outputs": [],
   "source": [
    "df1 = df_raw.copy()"
   ]
  },
  {
   "cell_type": "code",
   "execution_count": 27,
   "metadata": {
    "ExecuteTime": {
     "end_time": "2020-11-24T15:04:34.308946Z",
     "start_time": "2020-11-24T15:04:34.300156Z"
    },
    "hidden": true
   },
   "outputs": [
    {
     "data": {
      "text/plain": [
       "Index(['row_number', 'customer_id', 'surname', 'credit_score', 'geography',\n",
       "       'gender', 'age', 'tenure', 'balance', 'num_of_products', 'has_cr_card',\n",
       "       'is_active_member', 'estimated_salary', 'exited'],\n",
       "      dtype='object')"
      ]
     },
     "execution_count": 27,
     "metadata": {},
     "output_type": "execute_result"
    }
   ],
   "source": [
    "df1.columns = rename_cols(df_raw.columns)\n",
    "df1.columns"
   ]
  },
  {
   "cell_type": "code",
   "execution_count": 28,
   "metadata": {
    "ExecuteTime": {
     "end_time": "2020-11-24T15:04:35.065005Z",
     "start_time": "2020-11-24T15:04:35.061128Z"
    },
    "hidden": true
   },
   "outputs": [],
   "source": [
    "df1.rename(columns={'num_of_products': 'num_products', 'has_cr_card': 'credit_card',\n",
    "                    'is_active_member': 'active_member', 'estimated_salary': 'salary'},\n",
    "           inplace=True)"
   ]
  },
  {
   "cell_type": "code",
   "execution_count": 29,
   "metadata": {
    "ExecuteTime": {
     "end_time": "2020-11-24T15:04:35.992278Z",
     "start_time": "2020-11-24T15:04:35.980253Z"
    },
    "hidden": true
   },
   "outputs": [
    {
     "data": {
      "text/html": [
       "<div>\n",
       "<style scoped>\n",
       "    .dataframe tbody tr th:only-of-type {\n",
       "        vertical-align: middle;\n",
       "    }\n",
       "\n",
       "    .dataframe tbody tr th {\n",
       "        vertical-align: top;\n",
       "    }\n",
       "\n",
       "    .dataframe thead th {\n",
       "        text-align: right;\n",
       "    }\n",
       "</style>\n",
       "<table border=\"1\" class=\"dataframe\">\n",
       "  <thead>\n",
       "    <tr style=\"text-align: right;\">\n",
       "      <th></th>\n",
       "      <th>96</th>\n",
       "      <th>8215</th>\n",
       "      <th>528</th>\n",
       "    </tr>\n",
       "  </thead>\n",
       "  <tbody>\n",
       "    <tr>\n",
       "      <th>row_number</th>\n",
       "      <td>97</td>\n",
       "      <td>8216</td>\n",
       "      <td>529</td>\n",
       "    </tr>\n",
       "    <tr>\n",
       "      <th>customer_id</th>\n",
       "      <td>15738721</td>\n",
       "      <td>15743236</td>\n",
       "      <td>15653849</td>\n",
       "    </tr>\n",
       "    <tr>\n",
       "      <th>surname</th>\n",
       "      <td>Graham</td>\n",
       "      <td>Piccio</td>\n",
       "      <td>Lu</td>\n",
       "    </tr>\n",
       "    <tr>\n",
       "      <th>credit_score</th>\n",
       "      <td>773</td>\n",
       "      <td>687</td>\n",
       "      <td>572</td>\n",
       "    </tr>\n",
       "    <tr>\n",
       "      <th>geography</th>\n",
       "      <td>Spain</td>\n",
       "      <td>France</td>\n",
       "      <td>Germany</td>\n",
       "    </tr>\n",
       "    <tr>\n",
       "      <th>gender</th>\n",
       "      <td>Male</td>\n",
       "      <td>Female</td>\n",
       "      <td>Female</td>\n",
       "    </tr>\n",
       "    <tr>\n",
       "      <th>age</th>\n",
       "      <td>41</td>\n",
       "      <td>61</td>\n",
       "      <td>48</td>\n",
       "    </tr>\n",
       "    <tr>\n",
       "      <th>tenure</th>\n",
       "      <td>9</td>\n",
       "      <td>7</td>\n",
       "      <td>3</td>\n",
       "    </tr>\n",
       "    <tr>\n",
       "      <th>balance</th>\n",
       "      <td>102827</td>\n",
       "      <td>80538.6</td>\n",
       "      <td>152828</td>\n",
       "    </tr>\n",
       "    <tr>\n",
       "      <th>num_products</th>\n",
       "      <td>1</td>\n",
       "      <td>1</td>\n",
       "      <td>1</td>\n",
       "    </tr>\n",
       "    <tr>\n",
       "      <th>credit_card</th>\n",
       "      <td>0</td>\n",
       "      <td>1</td>\n",
       "      <td>1</td>\n",
       "    </tr>\n",
       "    <tr>\n",
       "      <th>active_member</th>\n",
       "      <td>1</td>\n",
       "      <td>0</td>\n",
       "      <td>0</td>\n",
       "    </tr>\n",
       "    <tr>\n",
       "      <th>salary</th>\n",
       "      <td>64595.2</td>\n",
       "      <td>131305</td>\n",
       "      <td>38411.8</td>\n",
       "    </tr>\n",
       "    <tr>\n",
       "      <th>exited</th>\n",
       "      <td>0</td>\n",
       "      <td>1</td>\n",
       "      <td>1</td>\n",
       "    </tr>\n",
       "  </tbody>\n",
       "</table>\n",
       "</div>"
      ],
      "text/plain": [
       "                   96        8215      528 \n",
       "row_number           97      8216       529\n",
       "customer_id    15738721  15743236  15653849\n",
       "surname          Graham    Piccio        Lu\n",
       "credit_score        773       687       572\n",
       "geography         Spain    France   Germany\n",
       "gender             Male    Female    Female\n",
       "age                  41        61        48\n",
       "tenure                9         7         3\n",
       "balance          102827   80538.6    152828\n",
       "num_products          1         1         1\n",
       "credit_card           0         1         1\n",
       "active_member         1         0         0\n",
       "salary          64595.2    131305   38411.8\n",
       "exited                0         1         1"
      ]
     },
     "execution_count": 29,
     "metadata": {},
     "output_type": "execute_result"
    }
   ],
   "source": [
    "df1.sample(3).T"
   ]
  },
  {
   "cell_type": "markdown",
   "metadata": {
    "heading_collapsed": true
   },
   "source": [
    "## Data Dimensions"
   ]
  },
  {
   "cell_type": "code",
   "execution_count": 30,
   "metadata": {
    "ExecuteTime": {
     "end_time": "2020-11-24T15:04:37.225961Z",
     "start_time": "2020-11-24T15:04:37.221078Z"
    },
    "hidden": true
   },
   "outputs": [
    {
     "name": "stdout",
     "output_type": "stream",
     "text": [
      " Number of rows: 10000\n",
      " Number of columns: 14\n"
     ]
    }
   ],
   "source": [
    "nrows, ncols = df1.shape\n",
    "print(f' Number of rows: {nrows}')\n",
    "print(f' Number of columns: {ncols}')"
   ]
  },
  {
   "cell_type": "markdown",
   "metadata": {
    "heading_collapsed": true
   },
   "source": [
    "## Data Types"
   ]
  },
  {
   "cell_type": "code",
   "execution_count": 31,
   "metadata": {
    "ExecuteTime": {
     "end_time": "2020-11-24T15:04:38.449625Z",
     "start_time": "2020-11-24T15:04:38.436708Z"
    },
    "hidden": true
   },
   "outputs": [
    {
     "name": "stdout",
     "output_type": "stream",
     "text": [
      "<class 'pandas.core.frame.DataFrame'>\n",
      "RangeIndex: 10000 entries, 0 to 9999\n",
      "Data columns (total 14 columns):\n",
      " #   Column         Non-Null Count  Dtype  \n",
      "---  ------         --------------  -----  \n",
      " 0   row_number     10000 non-null  int64  \n",
      " 1   customer_id    10000 non-null  int64  \n",
      " 2   surname        10000 non-null  object \n",
      " 3   credit_score   10000 non-null  int64  \n",
      " 4   geography      10000 non-null  object \n",
      " 5   gender         10000 non-null  object \n",
      " 6   age            10000 non-null  int64  \n",
      " 7   tenure         10000 non-null  int64  \n",
      " 8   balance        10000 non-null  float64\n",
      " 9   num_products   10000 non-null  int64  \n",
      " 10  credit_card    10000 non-null  int64  \n",
      " 11  active_member  10000 non-null  int64  \n",
      " 12  salary         10000 non-null  float64\n",
      " 13  exited         10000 non-null  int64  \n",
      "dtypes: float64(2), int64(9), object(3)\n",
      "memory usage: 1.1+ MB\n"
     ]
    }
   ],
   "source": [
    "#df1.dtypes\n",
    "df1.info()"
   ]
  },
  {
   "cell_type": "markdown",
   "metadata": {
    "heading_collapsed": true
   },
   "source": [
    "## Missing Data"
   ]
  },
  {
   "cell_type": "code",
   "execution_count": 32,
   "metadata": {
    "ExecuteTime": {
     "end_time": "2020-11-24T15:04:39.643219Z",
     "start_time": "2020-11-24T15:04:39.621413Z"
    },
    "hidden": true
   },
   "outputs": [
    {
     "data": {
      "text/plain": [
       "row_number       0\n",
       "customer_id      0\n",
       "surname          0\n",
       "credit_score     0\n",
       "geography        0\n",
       "gender           0\n",
       "age              0\n",
       "tenure           0\n",
       "balance          0\n",
       "num_products     0\n",
       "credit_card      0\n",
       "active_member    0\n",
       "salary           0\n",
       "exited           0\n",
       "dtype: int64"
      ]
     },
     "execution_count": 32,
     "metadata": {},
     "output_type": "execute_result"
    }
   ],
   "source": [
    "df1.isna().sum()"
   ]
  },
  {
   "cell_type": "markdown",
   "metadata": {
    "heading_collapsed": true
   },
   "source": [
    "## Fill Missing Data"
   ]
  },
  {
   "cell_type": "markdown",
   "metadata": {
    "hidden": true
   },
   "source": [
    "No need for this in this project.  \n",
    "(first time ever =p)"
   ]
  },
  {
   "cell_type": "markdown",
   "metadata": {
    "heading_collapsed": true
   },
   "source": [
    "## Change Types"
   ]
  },
  {
   "cell_type": "markdown",
   "metadata": {
    "hidden": true
   },
   "source": [
    "I'll map 'gender' to integers for ML reasons later."
   ]
  },
  {
   "cell_type": "code",
   "execution_count": 33,
   "metadata": {
    "ExecuteTime": {
     "end_time": "2020-11-24T15:04:42.088879Z",
     "start_time": "2020-11-24T15:04:42.073967Z"
    },
    "hidden": true,
    "scrolled": true
   },
   "outputs": [
    {
     "name": "stdout",
     "output_type": "stream",
     "text": [
      "['Female' 'Male']\n"
     ]
    },
    {
     "data": {
      "text/plain": [
       "0    1\n",
       "1    1\n",
       "2    1\n",
       "3    1\n",
       "4    1\n",
       "Name: gender, dtype: int64"
      ]
     },
     "execution_count": 33,
     "metadata": {},
     "output_type": "execute_result"
    }
   ],
   "source": [
    "print(df1.gender.unique())\n",
    "df1.gender = df1.gender.map({'Male': 0,'Female': 1})\n",
    "df1.gender.head()"
   ]
  },
  {
   "cell_type": "markdown",
   "metadata": {
    "hidden": true
   },
   "source": [
    "Similarly, 'geography' can be one-hot-encoded since there are only 3 countries."
   ]
  },
  {
   "cell_type": "code",
   "execution_count": 35,
   "metadata": {
    "ExecuteTime": {
     "end_time": "2020-11-24T15:06:22.703370Z",
     "start_time": "2020-11-24T15:06:22.678955Z"
    },
    "hidden": true
   },
   "outputs": [
    {
     "name": "stdout",
     "output_type": "stream",
     "text": [
      "['France' 'Spain' 'Germany']\n"
     ]
    },
    {
     "data": {
      "text/html": [
       "<div>\n",
       "<style scoped>\n",
       "    .dataframe tbody tr th:only-of-type {\n",
       "        vertical-align: middle;\n",
       "    }\n",
       "\n",
       "    .dataframe tbody tr th {\n",
       "        vertical-align: top;\n",
       "    }\n",
       "\n",
       "    .dataframe thead th {\n",
       "        text-align: right;\n",
       "    }\n",
       "</style>\n",
       "<table border=\"1\" class=\"dataframe\">\n",
       "  <thead>\n",
       "    <tr style=\"text-align: right;\">\n",
       "      <th></th>\n",
       "      <th>4778</th>\n",
       "      <th>2491</th>\n",
       "      <th>595</th>\n",
       "    </tr>\n",
       "  </thead>\n",
       "  <tbody>\n",
       "    <tr>\n",
       "      <th>row_number</th>\n",
       "      <td>4779</td>\n",
       "      <td>2492</td>\n",
       "      <td>596</td>\n",
       "    </tr>\n",
       "    <tr>\n",
       "      <th>customer_id</th>\n",
       "      <td>15582246</td>\n",
       "      <td>15764174</td>\n",
       "      <td>15680970</td>\n",
       "    </tr>\n",
       "    <tr>\n",
       "      <th>surname</th>\n",
       "      <td>Rowe</td>\n",
       "      <td>Bidencope</td>\n",
       "      <td>Lombardi</td>\n",
       "    </tr>\n",
       "    <tr>\n",
       "      <th>credit_score</th>\n",
       "      <td>737</td>\n",
       "      <td>612</td>\n",
       "      <td>611</td>\n",
       "    </tr>\n",
       "    <tr>\n",
       "      <th>geography</th>\n",
       "      <td>Spain</td>\n",
       "      <td>Spain</td>\n",
       "      <td>Germany</td>\n",
       "    </tr>\n",
       "    <tr>\n",
       "      <th>gender</th>\n",
       "      <td>1</td>\n",
       "      <td>1</td>\n",
       "      <td>1</td>\n",
       "    </tr>\n",
       "    <tr>\n",
       "      <th>age</th>\n",
       "      <td>45</td>\n",
       "      <td>26</td>\n",
       "      <td>41</td>\n",
       "    </tr>\n",
       "    <tr>\n",
       "      <th>tenure</th>\n",
       "      <td>2</td>\n",
       "      <td>4</td>\n",
       "      <td>2</td>\n",
       "    </tr>\n",
       "    <tr>\n",
       "      <th>balance</th>\n",
       "      <td>0</td>\n",
       "      <td>0</td>\n",
       "      <td>114207</td>\n",
       "    </tr>\n",
       "    <tr>\n",
       "      <th>num_products</th>\n",
       "      <td>2</td>\n",
       "      <td>2</td>\n",
       "      <td>1</td>\n",
       "    </tr>\n",
       "    <tr>\n",
       "      <th>credit_card</th>\n",
       "      <td>0</td>\n",
       "      <td>1</td>\n",
       "      <td>1</td>\n",
       "    </tr>\n",
       "    <tr>\n",
       "      <th>active_member</th>\n",
       "      <td>1</td>\n",
       "      <td>1</td>\n",
       "      <td>0</td>\n",
       "    </tr>\n",
       "    <tr>\n",
       "      <th>salary</th>\n",
       "      <td>177696</td>\n",
       "      <td>179781</td>\n",
       "      <td>164062</td>\n",
       "    </tr>\n",
       "    <tr>\n",
       "      <th>exited</th>\n",
       "      <td>0</td>\n",
       "      <td>0</td>\n",
       "      <td>0</td>\n",
       "    </tr>\n",
       "    <tr>\n",
       "      <th>country__France</th>\n",
       "      <td>0</td>\n",
       "      <td>0</td>\n",
       "      <td>0</td>\n",
       "    </tr>\n",
       "    <tr>\n",
       "      <th>country__Germany</th>\n",
       "      <td>0</td>\n",
       "      <td>0</td>\n",
       "      <td>1</td>\n",
       "    </tr>\n",
       "    <tr>\n",
       "      <th>country__Spain</th>\n",
       "      <td>1</td>\n",
       "      <td>1</td>\n",
       "      <td>0</td>\n",
       "    </tr>\n",
       "    <tr>\n",
       "      <th>country</th>\n",
       "      <td>1</td>\n",
       "      <td>1</td>\n",
       "      <td>2</td>\n",
       "    </tr>\n",
       "  </tbody>\n",
       "</table>\n",
       "</div>"
      ],
      "text/plain": [
       "                      4778       2491      595 \n",
       "row_number            4779       2492       596\n",
       "customer_id       15582246   15764174  15680970\n",
       "surname               Rowe  Bidencope  Lombardi\n",
       "credit_score           737        612       611\n",
       "geography            Spain      Spain   Germany\n",
       "gender                   1          1         1\n",
       "age                     45         26        41\n",
       "tenure                   2          4         2\n",
       "balance                  0          0    114207\n",
       "num_products             2          2         1\n",
       "credit_card              0          1         1\n",
       "active_member            1          1         0\n",
       "salary              177696     179781    164062\n",
       "exited                   0          0         0\n",
       "country__France          0          0         0\n",
       "country__Germany         0          0         1\n",
       "country__Spain           1          1         0\n",
       "country                  1          1         2"
      ]
     },
     "execution_count": 35,
     "metadata": {},
     "output_type": "execute_result"
    }
   ],
   "source": [
    "print(df1.geography.unique())\n",
    "df1 = pd.concat([df1, pd.get_dummies(df1['geography'], prefix='country_')], axis=1)\n",
    "df1['country'] = df1.geography.map({'France': 0, 'Spain': 1, 'Germany': 2})\n",
    "\n",
    "df1.sample(3)"
   ]
  },
  {
   "cell_type": "code",
   "execution_count": 59,
   "metadata": {
    "ExecuteTime": {
     "end_time": "2020-11-24T15:37:01.482097Z",
     "start_time": "2020-11-24T15:37:01.477867Z"
    },
    "hidden": true
   },
   "outputs": [],
   "source": [
    "# Need to rename it again due to country names:\n",
    "df1.columns = rename_cols(df1.columns)"
   ]
  },
  {
   "cell_type": "markdown",
   "metadata": {},
   "source": [
    "## Descriptive Statictics"
   ]
  },
  {
   "cell_type": "markdown",
   "metadata": {
    "heading_collapsed": true
   },
   "source": [
    "### Check Data, Drop Columns and Create Num/Cat Attributes"
   ]
  },
  {
   "cell_type": "code",
   "execution_count": 41,
   "metadata": {
    "ExecuteTime": {
     "end_time": "2020-11-24T15:11:04.965898Z",
     "start_time": "2020-11-24T15:11:04.952914Z"
    },
    "hidden": true
   },
   "outputs": [
    {
     "name": "stdout",
     "output_type": "stream",
     "text": [
      "<class 'pandas.core.frame.DataFrame'>\n",
      "RangeIndex: 10000 entries, 0 to 9999\n",
      "Data columns (total 18 columns):\n",
      " #   Column            Non-Null Count  Dtype  \n",
      "---  ------            --------------  -----  \n",
      " 0   row_number        10000 non-null  int64  \n",
      " 1   customer_id       10000 non-null  int64  \n",
      " 2   surname           10000 non-null  object \n",
      " 3   credit_score      10000 non-null  int64  \n",
      " 4   geography         10000 non-null  object \n",
      " 5   gender            10000 non-null  int64  \n",
      " 6   age               10000 non-null  int64  \n",
      " 7   tenure            10000 non-null  int64  \n",
      " 8   balance           10000 non-null  float64\n",
      " 9   num_products      10000 non-null  int64  \n",
      " 10  credit_card       10000 non-null  int64  \n",
      " 11  active_member     10000 non-null  int64  \n",
      " 12  salary            10000 non-null  float64\n",
      " 13  exited            10000 non-null  int64  \n",
      " 14  country__France   10000 non-null  uint8  \n",
      " 15  country__Germany  10000 non-null  uint8  \n",
      " 16  country__Spain    10000 non-null  uint8  \n",
      " 17  country           10000 non-null  int64  \n",
      "dtypes: float64(2), int64(11), object(2), uint8(3)\n",
      "memory usage: 1.2+ MB\n"
     ]
    }
   ],
   "source": [
    "df1.info()"
   ]
  },
  {
   "cell_type": "markdown",
   "metadata": {
    "hidden": true
   },
   "source": [
    "I will drop some columns for now, the first 2 are useless for prediction and analysis.  \n",
    "'Surname' could in principle have some info (NLP - bag of words),\n",
    "but I do not want to use it in the first few iterations."
   ]
  },
  {
   "cell_type": "code",
   "execution_count": 48,
   "metadata": {
    "ExecuteTime": {
     "end_time": "2020-11-24T15:26:49.986109Z",
     "start_time": "2020-11-24T15:26:49.969285Z"
    },
    "hidden": true
   },
   "outputs": [
    {
     "data": {
      "text/html": [
       "<div>\n",
       "<style scoped>\n",
       "    .dataframe tbody tr th:only-of-type {\n",
       "        vertical-align: middle;\n",
       "    }\n",
       "\n",
       "    .dataframe tbody tr th {\n",
       "        vertical-align: top;\n",
       "    }\n",
       "\n",
       "    .dataframe thead th {\n",
       "        text-align: right;\n",
       "    }\n",
       "</style>\n",
       "<table border=\"1\" class=\"dataframe\">\n",
       "  <thead>\n",
       "    <tr style=\"text-align: right;\">\n",
       "      <th></th>\n",
       "      <th>credit_score</th>\n",
       "      <th>geography</th>\n",
       "      <th>gender</th>\n",
       "      <th>age</th>\n",
       "      <th>tenure</th>\n",
       "      <th>balance</th>\n",
       "      <th>num_products</th>\n",
       "      <th>credit_card</th>\n",
       "      <th>active_member</th>\n",
       "      <th>salary</th>\n",
       "      <th>exited</th>\n",
       "      <th>country__France</th>\n",
       "      <th>country__Germany</th>\n",
       "      <th>country__Spain</th>\n",
       "      <th>country</th>\n",
       "    </tr>\n",
       "  </thead>\n",
       "  <tbody>\n",
       "    <tr>\n",
       "      <th>6638</th>\n",
       "      <td>740</td>\n",
       "      <td>France</td>\n",
       "      <td>0</td>\n",
       "      <td>36</td>\n",
       "      <td>4</td>\n",
       "      <td>172381.8</td>\n",
       "      <td>1</td>\n",
       "      <td>1</td>\n",
       "      <td>1</td>\n",
       "      <td>86480.29</td>\n",
       "      <td>0</td>\n",
       "      <td>1</td>\n",
       "      <td>0</td>\n",
       "      <td>0</td>\n",
       "      <td>0</td>\n",
       "    </tr>\n",
       "    <tr>\n",
       "      <th>8115</th>\n",
       "      <td>545</td>\n",
       "      <td>France</td>\n",
       "      <td>1</td>\n",
       "      <td>32</td>\n",
       "      <td>6</td>\n",
       "      <td>0.0</td>\n",
       "      <td>2</td>\n",
       "      <td>1</td>\n",
       "      <td>1</td>\n",
       "      <td>52067.37</td>\n",
       "      <td>0</td>\n",
       "      <td>1</td>\n",
       "      <td>0</td>\n",
       "      <td>0</td>\n",
       "      <td>0</td>\n",
       "    </tr>\n",
       "  </tbody>\n",
       "</table>\n",
       "</div>"
      ],
      "text/plain": [
       "      credit_score geography  gender  age  tenure   balance  num_products  \\\n",
       "6638           740    France       0   36       4  172381.8             1   \n",
       "8115           545    France       1   32       6       0.0             2   \n",
       "\n",
       "      credit_card  active_member    salary  exited  country__France  \\\n",
       "6638            1              1  86480.29       0                1   \n",
       "8115            1              1  52067.37       0                1   \n",
       "\n",
       "      country__Germany  country__Spain  country  \n",
       "6638                 0               0        0  \n",
       "8115                 0               0        0  "
      ]
     },
     "execution_count": 48,
     "metadata": {},
     "output_type": "execute_result"
    }
   ],
   "source": [
    "df1.drop(columns=['row_number', 'customer_id', 'surname'], inplace=True)\n",
    "df1.sample(2)"
   ]
  },
  {
   "cell_type": "code",
   "execution_count": 49,
   "metadata": {
    "ExecuteTime": {
     "end_time": "2020-11-24T15:26:52.283039Z",
     "start_time": "2020-11-24T15:26:52.273543Z"
    },
    "hidden": true
   },
   "outputs": [],
   "source": [
    "num_attr = df1.select_dtypes(include=['uint8', 'int64', 'float64'])\n",
    "cat_attr = df1.select_dtypes(exclude=['uint8', 'int64', 'float64'])"
   ]
  },
  {
   "cell_type": "code",
   "execution_count": 50,
   "metadata": {
    "ExecuteTime": {
     "end_time": "2020-11-24T15:26:54.022767Z",
     "start_time": "2020-11-24T15:26:54.009394Z"
    },
    "hidden": true
   },
   "outputs": [
    {
     "data": {
      "text/html": [
       "<div>\n",
       "<style scoped>\n",
       "    .dataframe tbody tr th:only-of-type {\n",
       "        vertical-align: middle;\n",
       "    }\n",
       "\n",
       "    .dataframe tbody tr th {\n",
       "        vertical-align: top;\n",
       "    }\n",
       "\n",
       "    .dataframe thead th {\n",
       "        text-align: right;\n",
       "    }\n",
       "</style>\n",
       "<table border=\"1\" class=\"dataframe\">\n",
       "  <thead>\n",
       "    <tr style=\"text-align: right;\">\n",
       "      <th></th>\n",
       "      <th>credit_score</th>\n",
       "      <th>gender</th>\n",
       "      <th>age</th>\n",
       "      <th>tenure</th>\n",
       "      <th>balance</th>\n",
       "      <th>num_products</th>\n",
       "      <th>credit_card</th>\n",
       "      <th>active_member</th>\n",
       "      <th>salary</th>\n",
       "      <th>exited</th>\n",
       "      <th>country__France</th>\n",
       "      <th>country__Germany</th>\n",
       "      <th>country__Spain</th>\n",
       "      <th>country</th>\n",
       "    </tr>\n",
       "  </thead>\n",
       "  <tbody>\n",
       "    <tr>\n",
       "      <th>8586</th>\n",
       "      <td>650</td>\n",
       "      <td>1</td>\n",
       "      <td>46</td>\n",
       "      <td>9</td>\n",
       "      <td>149003.76</td>\n",
       "      <td>2</td>\n",
       "      <td>1</td>\n",
       "      <td>0</td>\n",
       "      <td>176902.83</td>\n",
       "      <td>0</td>\n",
       "      <td>0</td>\n",
       "      <td>1</td>\n",
       "      <td>0</td>\n",
       "      <td>2</td>\n",
       "    </tr>\n",
       "    <tr>\n",
       "      <th>6740</th>\n",
       "      <td>670</td>\n",
       "      <td>1</td>\n",
       "      <td>40</td>\n",
       "      <td>2</td>\n",
       "      <td>147171.20</td>\n",
       "      <td>1</td>\n",
       "      <td>0</td>\n",
       "      <td>1</td>\n",
       "      <td>69850.04</td>\n",
       "      <td>0</td>\n",
       "      <td>0</td>\n",
       "      <td>1</td>\n",
       "      <td>0</td>\n",
       "      <td>2</td>\n",
       "    </tr>\n",
       "  </tbody>\n",
       "</table>\n",
       "</div>"
      ],
      "text/plain": [
       "      credit_score  gender  age  tenure    balance  num_products  credit_card  \\\n",
       "8586           650       1   46       9  149003.76             2            1   \n",
       "6740           670       1   40       2  147171.20             1            0   \n",
       "\n",
       "      active_member     salary  exited  country__France  country__Germany  \\\n",
       "8586              0  176902.83       0                0                 1   \n",
       "6740              1   69850.04       0                0                 1   \n",
       "\n",
       "      country__Spain  country  \n",
       "8586               0        2  \n",
       "6740               0        2  "
      ]
     },
     "execution_count": 50,
     "metadata": {},
     "output_type": "execute_result"
    }
   ],
   "source": [
    "num_attr.sample(2)"
   ]
  },
  {
   "cell_type": "code",
   "execution_count": 55,
   "metadata": {
    "ExecuteTime": {
     "end_time": "2020-11-24T15:28:44.958593Z",
     "start_time": "2020-11-24T15:28:44.946024Z"
    },
    "hidden": true
   },
   "outputs": [
    {
     "data": {
      "text/html": [
       "<div>\n",
       "<style scoped>\n",
       "    .dataframe tbody tr th:only-of-type {\n",
       "        vertical-align: middle;\n",
       "    }\n",
       "\n",
       "    .dataframe tbody tr th {\n",
       "        vertical-align: top;\n",
       "    }\n",
       "\n",
       "    .dataframe thead th {\n",
       "        text-align: right;\n",
       "    }\n",
       "</style>\n",
       "<table border=\"1\" class=\"dataframe\">\n",
       "  <thead>\n",
       "    <tr style=\"text-align: right;\">\n",
       "      <th></th>\n",
       "      <th>geography</th>\n",
       "    </tr>\n",
       "  </thead>\n",
       "  <tbody>\n",
       "    <tr>\n",
       "      <th>2016</th>\n",
       "      <td>France</td>\n",
       "    </tr>\n",
       "    <tr>\n",
       "      <th>4311</th>\n",
       "      <td>Spain</td>\n",
       "    </tr>\n",
       "  </tbody>\n",
       "</table>\n",
       "</div>"
      ],
      "text/plain": [
       "     geography\n",
       "2016    France\n",
       "4311     Spain"
      ]
     },
     "execution_count": 55,
     "metadata": {},
     "output_type": "execute_result"
    }
   ],
   "source": [
    "cat_attr.sample(2)"
   ]
  },
  {
   "cell_type": "markdown",
   "metadata": {
    "heading_collapsed": true
   },
   "source": [
    "### Numerical Descriptions"
   ]
  },
  {
   "cell_type": "code",
   "execution_count": 51,
   "metadata": {
    "ExecuteTime": {
     "end_time": "2020-11-24T15:26:56.393870Z",
     "start_time": "2020-11-24T15:26:56.313383Z"
    },
    "hidden": true
   },
   "outputs": [
    {
     "data": {
      "text/html": [
       "<div>\n",
       "<style scoped>\n",
       "    .dataframe tbody tr th:only-of-type {\n",
       "        vertical-align: middle;\n",
       "    }\n",
       "\n",
       "    .dataframe tbody tr th {\n",
       "        vertical-align: top;\n",
       "    }\n",
       "\n",
       "    .dataframe thead th {\n",
       "        text-align: right;\n",
       "    }\n",
       "</style>\n",
       "<table border=\"1\" class=\"dataframe\">\n",
       "  <thead>\n",
       "    <tr style=\"text-align: right;\">\n",
       "      <th></th>\n",
       "      <th>attributes</th>\n",
       "      <th>min</th>\n",
       "      <th>max</th>\n",
       "      <th>range</th>\n",
       "      <th>median</th>\n",
       "      <th>mean</th>\n",
       "      <th>std</th>\n",
       "      <th>skew</th>\n",
       "      <th>kurtosis</th>\n",
       "    </tr>\n",
       "  </thead>\n",
       "  <tbody>\n",
       "    <tr>\n",
       "      <th>0</th>\n",
       "      <td>credit_score</td>\n",
       "      <td>350.00</td>\n",
       "      <td>850.00</td>\n",
       "      <td>500.00</td>\n",
       "      <td>652.000</td>\n",
       "      <td>650.528800</td>\n",
       "      <td>96.648466</td>\n",
       "      <td>-0.071607</td>\n",
       "      <td>-0.425726</td>\n",
       "    </tr>\n",
       "    <tr>\n",
       "      <th>1</th>\n",
       "      <td>gender</td>\n",
       "      <td>0.00</td>\n",
       "      <td>1.00</td>\n",
       "      <td>1.00</td>\n",
       "      <td>0.000</td>\n",
       "      <td>0.454300</td>\n",
       "      <td>0.497907</td>\n",
       "      <td>0.183596</td>\n",
       "      <td>-1.966686</td>\n",
       "    </tr>\n",
       "    <tr>\n",
       "      <th>2</th>\n",
       "      <td>age</td>\n",
       "      <td>18.00</td>\n",
       "      <td>92.00</td>\n",
       "      <td>74.00</td>\n",
       "      <td>37.000</td>\n",
       "      <td>38.921800</td>\n",
       "      <td>10.487282</td>\n",
       "      <td>1.011320</td>\n",
       "      <td>1.395347</td>\n",
       "    </tr>\n",
       "    <tr>\n",
       "      <th>3</th>\n",
       "      <td>tenure</td>\n",
       "      <td>0.00</td>\n",
       "      <td>10.00</td>\n",
       "      <td>10.00</td>\n",
       "      <td>5.000</td>\n",
       "      <td>5.012800</td>\n",
       "      <td>2.892030</td>\n",
       "      <td>0.010991</td>\n",
       "      <td>-1.165225</td>\n",
       "    </tr>\n",
       "    <tr>\n",
       "      <th>4</th>\n",
       "      <td>balance</td>\n",
       "      <td>0.00</td>\n",
       "      <td>250898.09</td>\n",
       "      <td>250898.09</td>\n",
       "      <td>97198.540</td>\n",
       "      <td>76485.889288</td>\n",
       "      <td>62394.285254</td>\n",
       "      <td>-0.141109</td>\n",
       "      <td>-1.489412</td>\n",
       "    </tr>\n",
       "    <tr>\n",
       "      <th>5</th>\n",
       "      <td>num_products</td>\n",
       "      <td>1.00</td>\n",
       "      <td>4.00</td>\n",
       "      <td>3.00</td>\n",
       "      <td>1.000</td>\n",
       "      <td>1.530200</td>\n",
       "      <td>0.581625</td>\n",
       "      <td>0.745568</td>\n",
       "      <td>0.582981</td>\n",
       "    </tr>\n",
       "    <tr>\n",
       "      <th>6</th>\n",
       "      <td>credit_card</td>\n",
       "      <td>0.00</td>\n",
       "      <td>1.00</td>\n",
       "      <td>1.00</td>\n",
       "      <td>1.000</td>\n",
       "      <td>0.705500</td>\n",
       "      <td>0.455818</td>\n",
       "      <td>-0.901812</td>\n",
       "      <td>-1.186973</td>\n",
       "    </tr>\n",
       "    <tr>\n",
       "      <th>7</th>\n",
       "      <td>active_member</td>\n",
       "      <td>0.00</td>\n",
       "      <td>1.00</td>\n",
       "      <td>1.00</td>\n",
       "      <td>1.000</td>\n",
       "      <td>0.515100</td>\n",
       "      <td>0.499772</td>\n",
       "      <td>-0.060437</td>\n",
       "      <td>-1.996747</td>\n",
       "    </tr>\n",
       "    <tr>\n",
       "      <th>8</th>\n",
       "      <td>salary</td>\n",
       "      <td>11.58</td>\n",
       "      <td>199992.48</td>\n",
       "      <td>199980.90</td>\n",
       "      <td>100193.915</td>\n",
       "      <td>100090.239881</td>\n",
       "      <td>57507.617221</td>\n",
       "      <td>0.002085</td>\n",
       "      <td>-1.181518</td>\n",
       "    </tr>\n",
       "    <tr>\n",
       "      <th>9</th>\n",
       "      <td>exited</td>\n",
       "      <td>0.00</td>\n",
       "      <td>1.00</td>\n",
       "      <td>1.00</td>\n",
       "      <td>0.000</td>\n",
       "      <td>0.203700</td>\n",
       "      <td>0.402748</td>\n",
       "      <td>1.471611</td>\n",
       "      <td>0.165671</td>\n",
       "    </tr>\n",
       "    <tr>\n",
       "      <th>10</th>\n",
       "      <td>country__France</td>\n",
       "      <td>0.00</td>\n",
       "      <td>1.00</td>\n",
       "      <td>1.00</td>\n",
       "      <td>1.000</td>\n",
       "      <td>0.501400</td>\n",
       "      <td>0.499998</td>\n",
       "      <td>-0.005601</td>\n",
       "      <td>-2.000369</td>\n",
       "    </tr>\n",
       "    <tr>\n",
       "      <th>11</th>\n",
       "      <td>country__Germany</td>\n",
       "      <td>0.00</td>\n",
       "      <td>1.00</td>\n",
       "      <td>1.00</td>\n",
       "      <td>0.000</td>\n",
       "      <td>0.250900</td>\n",
       "      <td>0.433531</td>\n",
       "      <td>1.149340</td>\n",
       "      <td>-0.679153</td>\n",
       "    </tr>\n",
       "    <tr>\n",
       "      <th>12</th>\n",
       "      <td>country__Spain</td>\n",
       "      <td>0.00</td>\n",
       "      <td>1.00</td>\n",
       "      <td>1.00</td>\n",
       "      <td>0.000</td>\n",
       "      <td>0.247700</td>\n",
       "      <td>0.431677</td>\n",
       "      <td>1.169106</td>\n",
       "      <td>-0.633318</td>\n",
       "    </tr>\n",
       "    <tr>\n",
       "      <th>13</th>\n",
       "      <td>country</td>\n",
       "      <td>0.00</td>\n",
       "      <td>2.00</td>\n",
       "      <td>2.00</td>\n",
       "      <td>0.000</td>\n",
       "      <td>0.749500</td>\n",
       "      <td>0.830391</td>\n",
       "      <td>0.495040</td>\n",
       "      <td>-1.374929</td>\n",
       "    </tr>\n",
       "  </tbody>\n",
       "</table>\n",
       "</div>"
      ],
      "text/plain": [
       "          attributes     min        max      range      median           mean  \\\n",
       "0       credit_score  350.00     850.00     500.00     652.000     650.528800   \n",
       "1             gender    0.00       1.00       1.00       0.000       0.454300   \n",
       "2                age   18.00      92.00      74.00      37.000      38.921800   \n",
       "3             tenure    0.00      10.00      10.00       5.000       5.012800   \n",
       "4            balance    0.00  250898.09  250898.09   97198.540   76485.889288   \n",
       "5       num_products    1.00       4.00       3.00       1.000       1.530200   \n",
       "6        credit_card    0.00       1.00       1.00       1.000       0.705500   \n",
       "7      active_member    0.00       1.00       1.00       1.000       0.515100   \n",
       "8             salary   11.58  199992.48  199980.90  100193.915  100090.239881   \n",
       "9             exited    0.00       1.00       1.00       0.000       0.203700   \n",
       "10   country__France    0.00       1.00       1.00       1.000       0.501400   \n",
       "11  country__Germany    0.00       1.00       1.00       0.000       0.250900   \n",
       "12    country__Spain    0.00       1.00       1.00       0.000       0.247700   \n",
       "13           country    0.00       2.00       2.00       0.000       0.749500   \n",
       "\n",
       "             std      skew  kurtosis  \n",
       "0      96.648466 -0.071607 -0.425726  \n",
       "1       0.497907  0.183596 -1.966686  \n",
       "2      10.487282  1.011320  1.395347  \n",
       "3       2.892030  0.010991 -1.165225  \n",
       "4   62394.285254 -0.141109 -1.489412  \n",
       "5       0.581625  0.745568  0.582981  \n",
       "6       0.455818 -0.901812 -1.186973  \n",
       "7       0.499772 -0.060437 -1.996747  \n",
       "8   57507.617221  0.002085 -1.181518  \n",
       "9       0.402748  1.471611  0.165671  \n",
       "10      0.499998 -0.005601 -2.000369  \n",
       "11      0.433531  1.149340 -0.679153  \n",
       "12      0.431677  1.169106 -0.633318  \n",
       "13      0.830391  0.495040 -1.374929  "
      ]
     },
     "execution_count": 51,
     "metadata": {},
     "output_type": "execute_result"
    }
   ],
   "source": [
    "# Central Tendendy - mean, median\n",
    "ct1 = pd.DataFrame(num_attr.apply(np.median)).T\n",
    "ct2 = pd.DataFrame(num_attr.apply(np.mean)).T\n",
    "\n",
    "# Dispersion - std, min, max, range, skew, kurtosis\n",
    "dt1 = pd.DataFrame(num_attr.apply( min )).T\n",
    "dt2 = pd.DataFrame(num_attr.apply( max )).T\n",
    "dt3 = pd.DataFrame(num_attr.apply( lambda x: x.max() - x.min() )).T\n",
    "dt4 = pd.DataFrame(num_attr.apply( np.std )).T\n",
    "dt5 = pd.DataFrame(num_attr.apply( lambda x: x.skew() )).T\n",
    "dt6 = pd.DataFrame(num_attr.apply( lambda x: x.kurtosis() )).T\n",
    "\n",
    "m = pd.concat([dt1, dt2, dt3, ct1, ct2, dt4, dt5, dt6]).T.reset_index()\n",
    "m.columns = ['attributes', 'min', 'max', 'range', 'median', 'mean', 'std', 'skew', 'kurtosis']\n",
    "m"
   ]
  },
  {
   "cell_type": "code",
   "execution_count": 52,
   "metadata": {
    "ExecuteTime": {
     "end_time": "2020-11-24T15:26:59.503257Z",
     "start_time": "2020-11-24T15:26:59.448980Z"
    },
    "hidden": true
   },
   "outputs": [
    {
     "data": {
      "text/html": [
       "<div>\n",
       "<style scoped>\n",
       "    .dataframe tbody tr th:only-of-type {\n",
       "        vertical-align: middle;\n",
       "    }\n",
       "\n",
       "    .dataframe tbody tr th {\n",
       "        vertical-align: top;\n",
       "    }\n",
       "\n",
       "    .dataframe thead th {\n",
       "        text-align: right;\n",
       "    }\n",
       "</style>\n",
       "<table border=\"1\" class=\"dataframe\">\n",
       "  <thead>\n",
       "    <tr style=\"text-align: right;\">\n",
       "      <th></th>\n",
       "      <th>credit_score</th>\n",
       "      <th>gender</th>\n",
       "      <th>age</th>\n",
       "      <th>tenure</th>\n",
       "      <th>balance</th>\n",
       "      <th>num_products</th>\n",
       "      <th>credit_card</th>\n",
       "      <th>active_member</th>\n",
       "      <th>salary</th>\n",
       "      <th>exited</th>\n",
       "      <th>country__France</th>\n",
       "      <th>country__Germany</th>\n",
       "      <th>country__Spain</th>\n",
       "      <th>country</th>\n",
       "    </tr>\n",
       "  </thead>\n",
       "  <tbody>\n",
       "    <tr>\n",
       "      <th>count</th>\n",
       "      <td>10000.000000</td>\n",
       "      <td>10000.000000</td>\n",
       "      <td>10000.000000</td>\n",
       "      <td>10000.000000</td>\n",
       "      <td>10000.000000</td>\n",
       "      <td>10000.000000</td>\n",
       "      <td>10000.00000</td>\n",
       "      <td>10000.000000</td>\n",
       "      <td>10000.000000</td>\n",
       "      <td>10000.000000</td>\n",
       "      <td>10000.000000</td>\n",
       "      <td>10000.000000</td>\n",
       "      <td>10000.000000</td>\n",
       "      <td>10000.000000</td>\n",
       "    </tr>\n",
       "    <tr>\n",
       "      <th>mean</th>\n",
       "      <td>650.528800</td>\n",
       "      <td>0.454300</td>\n",
       "      <td>38.921800</td>\n",
       "      <td>5.012800</td>\n",
       "      <td>76485.889288</td>\n",
       "      <td>1.530200</td>\n",
       "      <td>0.70550</td>\n",
       "      <td>0.515100</td>\n",
       "      <td>100090.239881</td>\n",
       "      <td>0.203700</td>\n",
       "      <td>0.501400</td>\n",
       "      <td>0.250900</td>\n",
       "      <td>0.247700</td>\n",
       "      <td>0.749500</td>\n",
       "    </tr>\n",
       "    <tr>\n",
       "      <th>std</th>\n",
       "      <td>96.653299</td>\n",
       "      <td>0.497932</td>\n",
       "      <td>10.487806</td>\n",
       "      <td>2.892174</td>\n",
       "      <td>62397.405202</td>\n",
       "      <td>0.581654</td>\n",
       "      <td>0.45584</td>\n",
       "      <td>0.499797</td>\n",
       "      <td>57510.492818</td>\n",
       "      <td>0.402769</td>\n",
       "      <td>0.500023</td>\n",
       "      <td>0.433553</td>\n",
       "      <td>0.431698</td>\n",
       "      <td>0.830433</td>\n",
       "    </tr>\n",
       "    <tr>\n",
       "      <th>min</th>\n",
       "      <td>350.000000</td>\n",
       "      <td>0.000000</td>\n",
       "      <td>18.000000</td>\n",
       "      <td>0.000000</td>\n",
       "      <td>0.000000</td>\n",
       "      <td>1.000000</td>\n",
       "      <td>0.00000</td>\n",
       "      <td>0.000000</td>\n",
       "      <td>11.580000</td>\n",
       "      <td>0.000000</td>\n",
       "      <td>0.000000</td>\n",
       "      <td>0.000000</td>\n",
       "      <td>0.000000</td>\n",
       "      <td>0.000000</td>\n",
       "    </tr>\n",
       "    <tr>\n",
       "      <th>5%</th>\n",
       "      <td>489.000000</td>\n",
       "      <td>0.000000</td>\n",
       "      <td>25.000000</td>\n",
       "      <td>1.000000</td>\n",
       "      <td>0.000000</td>\n",
       "      <td>1.000000</td>\n",
       "      <td>0.00000</td>\n",
       "      <td>0.000000</td>\n",
       "      <td>9851.818500</td>\n",
       "      <td>0.000000</td>\n",
       "      <td>0.000000</td>\n",
       "      <td>0.000000</td>\n",
       "      <td>0.000000</td>\n",
       "      <td>0.000000</td>\n",
       "    </tr>\n",
       "    <tr>\n",
       "      <th>25%</th>\n",
       "      <td>584.000000</td>\n",
       "      <td>0.000000</td>\n",
       "      <td>32.000000</td>\n",
       "      <td>3.000000</td>\n",
       "      <td>0.000000</td>\n",
       "      <td>1.000000</td>\n",
       "      <td>0.00000</td>\n",
       "      <td>0.000000</td>\n",
       "      <td>51002.110000</td>\n",
       "      <td>0.000000</td>\n",
       "      <td>0.000000</td>\n",
       "      <td>0.000000</td>\n",
       "      <td>0.000000</td>\n",
       "      <td>0.000000</td>\n",
       "    </tr>\n",
       "    <tr>\n",
       "      <th>50%</th>\n",
       "      <td>652.000000</td>\n",
       "      <td>0.000000</td>\n",
       "      <td>37.000000</td>\n",
       "      <td>5.000000</td>\n",
       "      <td>97198.540000</td>\n",
       "      <td>1.000000</td>\n",
       "      <td>1.00000</td>\n",
       "      <td>1.000000</td>\n",
       "      <td>100193.915000</td>\n",
       "      <td>0.000000</td>\n",
       "      <td>1.000000</td>\n",
       "      <td>0.000000</td>\n",
       "      <td>0.000000</td>\n",
       "      <td>0.000000</td>\n",
       "    </tr>\n",
       "    <tr>\n",
       "      <th>75%</th>\n",
       "      <td>718.000000</td>\n",
       "      <td>1.000000</td>\n",
       "      <td>44.000000</td>\n",
       "      <td>7.000000</td>\n",
       "      <td>127644.240000</td>\n",
       "      <td>2.000000</td>\n",
       "      <td>1.00000</td>\n",
       "      <td>1.000000</td>\n",
       "      <td>149388.247500</td>\n",
       "      <td>0.000000</td>\n",
       "      <td>1.000000</td>\n",
       "      <td>1.000000</td>\n",
       "      <td>0.000000</td>\n",
       "      <td>2.000000</td>\n",
       "    </tr>\n",
       "    <tr>\n",
       "      <th>90%</th>\n",
       "      <td>778.000000</td>\n",
       "      <td>1.000000</td>\n",
       "      <td>53.000000</td>\n",
       "      <td>9.000000</td>\n",
       "      <td>149244.792000</td>\n",
       "      <td>2.000000</td>\n",
       "      <td>1.00000</td>\n",
       "      <td>1.000000</td>\n",
       "      <td>179674.704000</td>\n",
       "      <td>1.000000</td>\n",
       "      <td>1.000000</td>\n",
       "      <td>1.000000</td>\n",
       "      <td>1.000000</td>\n",
       "      <td>2.000000</td>\n",
       "    </tr>\n",
       "    <tr>\n",
       "      <th>95%</th>\n",
       "      <td>812.000000</td>\n",
       "      <td>1.000000</td>\n",
       "      <td>60.000000</td>\n",
       "      <td>9.000000</td>\n",
       "      <td>162711.669000</td>\n",
       "      <td>2.000000</td>\n",
       "      <td>1.00000</td>\n",
       "      <td>1.000000</td>\n",
       "      <td>190155.375500</td>\n",
       "      <td>1.000000</td>\n",
       "      <td>1.000000</td>\n",
       "      <td>1.000000</td>\n",
       "      <td>1.000000</td>\n",
       "      <td>2.000000</td>\n",
       "    </tr>\n",
       "    <tr>\n",
       "      <th>99%</th>\n",
       "      <td>850.000000</td>\n",
       "      <td>1.000000</td>\n",
       "      <td>72.000000</td>\n",
       "      <td>10.000000</td>\n",
       "      <td>185967.985400</td>\n",
       "      <td>3.000000</td>\n",
       "      <td>1.00000</td>\n",
       "      <td>1.000000</td>\n",
       "      <td>198069.734500</td>\n",
       "      <td>1.000000</td>\n",
       "      <td>1.000000</td>\n",
       "      <td>1.000000</td>\n",
       "      <td>1.000000</td>\n",
       "      <td>2.000000</td>\n",
       "    </tr>\n",
       "    <tr>\n",
       "      <th>max</th>\n",
       "      <td>850.000000</td>\n",
       "      <td>1.000000</td>\n",
       "      <td>92.000000</td>\n",
       "      <td>10.000000</td>\n",
       "      <td>250898.090000</td>\n",
       "      <td>4.000000</td>\n",
       "      <td>1.00000</td>\n",
       "      <td>1.000000</td>\n",
       "      <td>199992.480000</td>\n",
       "      <td>1.000000</td>\n",
       "      <td>1.000000</td>\n",
       "      <td>1.000000</td>\n",
       "      <td>1.000000</td>\n",
       "      <td>2.000000</td>\n",
       "    </tr>\n",
       "  </tbody>\n",
       "</table>\n",
       "</div>"
      ],
      "text/plain": [
       "       credit_score        gender           age        tenure        balance  \\\n",
       "count  10000.000000  10000.000000  10000.000000  10000.000000   10000.000000   \n",
       "mean     650.528800      0.454300     38.921800      5.012800   76485.889288   \n",
       "std       96.653299      0.497932     10.487806      2.892174   62397.405202   \n",
       "min      350.000000      0.000000     18.000000      0.000000       0.000000   \n",
       "5%       489.000000      0.000000     25.000000      1.000000       0.000000   \n",
       "25%      584.000000      0.000000     32.000000      3.000000       0.000000   \n",
       "50%      652.000000      0.000000     37.000000      5.000000   97198.540000   \n",
       "75%      718.000000      1.000000     44.000000      7.000000  127644.240000   \n",
       "90%      778.000000      1.000000     53.000000      9.000000  149244.792000   \n",
       "95%      812.000000      1.000000     60.000000      9.000000  162711.669000   \n",
       "99%      850.000000      1.000000     72.000000     10.000000  185967.985400   \n",
       "max      850.000000      1.000000     92.000000     10.000000  250898.090000   \n",
       "\n",
       "       num_products  credit_card  active_member         salary        exited  \\\n",
       "count  10000.000000  10000.00000   10000.000000   10000.000000  10000.000000   \n",
       "mean       1.530200      0.70550       0.515100  100090.239881      0.203700   \n",
       "std        0.581654      0.45584       0.499797   57510.492818      0.402769   \n",
       "min        1.000000      0.00000       0.000000      11.580000      0.000000   \n",
       "5%         1.000000      0.00000       0.000000    9851.818500      0.000000   \n",
       "25%        1.000000      0.00000       0.000000   51002.110000      0.000000   \n",
       "50%        1.000000      1.00000       1.000000  100193.915000      0.000000   \n",
       "75%        2.000000      1.00000       1.000000  149388.247500      0.000000   \n",
       "90%        2.000000      1.00000       1.000000  179674.704000      1.000000   \n",
       "95%        2.000000      1.00000       1.000000  190155.375500      1.000000   \n",
       "99%        3.000000      1.00000       1.000000  198069.734500      1.000000   \n",
       "max        4.000000      1.00000       1.000000  199992.480000      1.000000   \n",
       "\n",
       "       country__France  country__Germany  country__Spain       country  \n",
       "count     10000.000000      10000.000000    10000.000000  10000.000000  \n",
       "mean          0.501400          0.250900        0.247700      0.749500  \n",
       "std           0.500023          0.433553        0.431698      0.830433  \n",
       "min           0.000000          0.000000        0.000000      0.000000  \n",
       "5%            0.000000          0.000000        0.000000      0.000000  \n",
       "25%           0.000000          0.000000        0.000000      0.000000  \n",
       "50%           1.000000          0.000000        0.000000      0.000000  \n",
       "75%           1.000000          1.000000        0.000000      2.000000  \n",
       "90%           1.000000          1.000000        1.000000      2.000000  \n",
       "95%           1.000000          1.000000        1.000000      2.000000  \n",
       "99%           1.000000          1.000000        1.000000      2.000000  \n",
       "max           1.000000          1.000000        1.000000      2.000000  "
      ]
     },
     "execution_count": 52,
     "metadata": {},
     "output_type": "execute_result"
    }
   ],
   "source": [
    "df1.describe([0.05,0.25,0.50,0.75,0.90,0.95,0.99])"
   ]
  },
  {
   "cell_type": "markdown",
   "metadata": {
    "heading_collapsed": true
   },
   "source": [
    "### Categorial Attributes"
   ]
  },
  {
   "cell_type": "code",
   "execution_count": 56,
   "metadata": {
    "ExecuteTime": {
     "end_time": "2020-11-24T15:29:04.077970Z",
     "start_time": "2020-11-24T15:29:04.065717Z"
    },
    "hidden": true
   },
   "outputs": [
    {
     "data": {
      "text/plain": [
       "geography    3\n",
       "dtype: int64"
      ]
     },
     "execution_count": 56,
     "metadata": {},
     "output_type": "execute_result"
    }
   ],
   "source": [
    "cat_attr.apply( lambda x: x.unique().shape[0])"
   ]
  },
  {
   "cell_type": "markdown",
   "metadata": {},
   "source": [
    "# Data Visualisation"
   ]
  },
  {
   "cell_type": "code",
   "execution_count": null,
   "metadata": {},
   "outputs": [],
   "source": [
    "def hargs(bins=np.arange(0, 2, 1), hstep='step', lwidth=3, c='r', label='Churn', normed=False):\n",
    "    return {'bins': bins, 'histtype': hstep, 'linewidth': lwidth, 'color': c, 'density': normed, 'label': label}"
   ]
  },
  {
   "cell_type": "code",
   "execution_count": null,
   "metadata": {},
   "outputs": [],
   "source": [
    "mask = (df.exited == 1)"
   ]
  },
  {
   "cell_type": "code",
   "execution_count": null,
   "metadata": {},
   "outputs": [],
   "source": [
    "def plot_vars(normed=False):\n",
    "    fig, ax = plt.subplots(nrows=3, ncols=3, figsize=(16, 12))\n",
    "    (ax1, ax2, ax3), (ax4, ax5, ax6), (ax7, ax8, ax9) = ax\n",
    "\n",
    "    mask = (df.Exited == 1)\n",
    "    \n",
    "    bins = np.arange(300, 900, 50)\n",
    "    ax1.hist(df.CreditScore[mask], **hargs(bins=bins, normed=normed))       \n",
    "    ax1.hist(df.CreditScore[~mask], **hargs(bins=bins, normed=normed, c='b', label='not Churn'))\n",
    "    ax1.set_xlabel('Credit Score')\n",
    "    ax1.legend(loc='upper left')\n",
    "\n",
    "    bins = np.arange(10, 110, 10)\n",
    "    ax2.hist(df.Age[mask], **hargs(bins=bins, normed=normed))\n",
    "    ax2.hist(df.Age[~mask], **hargs(bins=bins, normed=normed, c='b', label='not Churn'))\n",
    "    ax2.set_xlabel('Age')\n",
    "    ax2.legend()\n",
    "\n",
    "    bins = np.arange(0, 11, 1)\n",
    "    ax3.hist(df.Tenure[mask], **hargs(bins=bins, normed=normed))\n",
    "    ax3.hist(df.Tenure[~mask], **hargs(bins=bins, normed=normed, c='b', label='not Churn'))\n",
    "    ax3.set_xlabel('Tenure')\n",
    "    ax3.legend(loc='upper left')\n",
    "\n",
    "    bins = np.arange(0, 300_000, 20_000)\n",
    "    ax4.hist(df.Balance[mask], **hargs(bins=bins, normed=normed))\n",
    "    ax4.hist(df.Balance[~mask], **hargs(bins=bins, normed=normed, c='b', label='not Churn'))\n",
    "    ax4.set_xlabel('Balance')\n",
    "    ax4.legend()\n",
    "\n",
    "    bins = np.arange(-0.5, 3.5, 1)\n",
    "    ax5.hist(df.Country[mask], **hargs(bins=bins, normed=normed))\n",
    "    ax5.hist(df.Country[~mask], **hargs(bins=bins, normed=normed, c='b', label='not Churn'))\n",
    "    ax5.set_xlabel('Country')\n",
    "    ax5.legend()\n",
    "\n",
    "    bins = np.arange(.5, 5.5, 1)\n",
    "    ax6.hist(df.NumOfProducts[mask], **hargs(bins=bins, normed=normed))\n",
    "    ax6.hist(df.NumOfProducts[~mask], **hargs(bins=bins, normed=normed, c='b', label='not Churn'))\n",
    "    ax6.set_xlabel('#  of Products')\n",
    "    ax6.legend()\n",
    "\n",
    "    bins = np.arange(0, 200_000, 20_000)\n",
    "    ax7.hist(df.EstimatedSalary[mask], **hargs(bins=bins, normed=normed))\n",
    "    ax7.hist(df.EstimatedSalary[~mask], **hargs(bins=bins, normed=normed, c='b', label='not Churn'))\n",
    "    ax7.set_xlabel('Estimated Salary')\n",
    "    ax7.legend(loc='best')\n",
    "\n",
    "    bins = np.arange(0, 0.7, 0.05)\n",
    "    ax8.hist(df.Tenure[mask] / df.Age[mask], **hargs(bins=bins, normed=normed))\n",
    "    ax8.hist(df.Tenure[~mask] / df.Age[~mask], **hargs(bins=bins, normed=normed, c='b', label='not Churn'))\n",
    "    ax8.set_xlabel('Tenure/Age')\n",
    "    ax8.legend()\n",
    "\n",
    "\n",
    "    plt.show()"
   ]
  },
  {
   "cell_type": "code",
   "execution_count": null,
   "metadata": {},
   "outputs": [],
   "source": [
    "plot_vars(normed=False)"
   ]
  },
  {
   "cell_type": "code",
   "execution_count": null,
   "metadata": {},
   "outputs": [],
   "source": [
    "plot_vars(normed=True)"
   ]
  },
  {
   "cell_type": "code",
   "execution_count": null,
   "metadata": {},
   "outputs": [],
   "source": [
    "attributes = ['Age', 'Balance', 'Tenure', 'NumOfProducts',\n",
    "              'CreditScore', 'EstimatedSalary', 'Country']"
   ]
  },
  {
   "cell_type": "code",
   "execution_count": null,
   "metadata": {},
   "outputs": [],
   "source": [
    "scatter_matrix(df[mask][attributes], figsize=(15, 13))\n",
    "plt.show()"
   ]
  },
  {
   "cell_type": "code",
   "execution_count": null,
   "metadata": {},
   "outputs": [],
   "source": [
    "scatter_matrix(df[~mask][attributes], figsize=(15, 13))\n",
    "plt.show()"
   ]
  },
  {
   "cell_type": "code",
   "execution_count": null,
   "metadata": {
    "scrolled": true
   },
   "outputs": [],
   "source": [
    "fig, ax = plt.subplots(nrows=3, ncols=2, figsize=(16, 12))\n",
    "(ax1, ax2), (ax3, ax4), (ax5, ax6) = ax\n",
    "\n",
    "mask = (df.Exited == 1)\n",
    "\n",
    "ax1.scatter(x=df.Age[mask], y=df.Balance[mask], label='Churn', color='r')  \n",
    "ax1.set_xlabel('Age')\n",
    "ax1.set_ylabel('Balance')\n",
    "ax1.legend(loc='best')\n",
    "\n",
    "ax2.scatter(x=df.Age[~mask], y=df.Balance[~mask], label='not Churn', color='b')\n",
    "ax2.set_xlabel('Age')\n",
    "ax2.set_ylabel('Balance')\n",
    "ax2.legend(loc='best')\n",
    "\n",
    "ax3.scatter(x=df.NumOfProducts[mask], y=df.Balance[mask], label='Churn', color='r')  \n",
    "ax3.set_xlabel('NumOfProducts')\n",
    "ax3.set_ylabel('Balance')\n",
    "ax3.legend(loc='best')\n",
    "\n",
    "ax4.scatter(x=df.NumOfProducts[~mask], y=df.Balance[~mask], label='not Churn', color='b')\n",
    "ax4.set_xlabel('NumOfProducts')\n",
    "ax4.set_ylabel('Balance')\n",
    "ax4.legend(loc='best')\n",
    "\n",
    "ax5.scatter(x=df.NumOfProducts[mask], y=df.Age[mask], label='Churn', color='r')  \n",
    "ax5.set_xlabel('NumOfProducts')\n",
    "ax5.set_ylabel('Age')\n",
    "ax5.legend(loc='best')\n",
    "\n",
    "ax6.scatter(x=df.NumOfProducts[~mask], y=df.Age[~mask], label='not Churn', color='b')\n",
    "ax6.set_xlabel('NumOfProducts')\n",
    "ax6.set_ylabel('Age')\n",
    "ax6.legend(loc='best')\n",
    "\n",
    "plt.show()"
   ]
  },
  {
   "cell_type": "code",
   "execution_count": null,
   "metadata": {},
   "outputs": [],
   "source": [
    "def print_prop(table):\n",
    "    name = table.columns.name\n",
    "    a0, b0 = table[0]\n",
    "    a1, b1 = table[1]\n",
    "    tot0, tot1 = a0 + b0, a1 + b1\n",
    "    tot = tot0 + tot1\n",
    "    print(f'Total of {name} = {tot}')\n",
    "    print(f'Proportion of {name}==0: {100.*tot0/tot:.2f}%')\n",
    "    print(f'Proportion of {name}==1: {100.*tot1/tot:.2f}%')\n",
    "    print(f'Proportion of {name}==0 that Churned: {100.*b0/tot0:.2f}%')\n",
    "    print(f'Proportion of {name}==1 that Churned: {100.*b1/tot1:.2f}%')\n",
    "    \n",
    "def print_prop3(table):\n",
    "    name = table.columns.name\n",
    "    a0, b0 = table['France']\n",
    "    a1, b1 = table['Spain']\n",
    "    a2, b2 = table['Germany']\n",
    "    tot0, tot1, tot2 = a0 + b0, a1 + b1, a2 + b2\n",
    "    tot = tot0 + tot1 + tot2\n",
    "    print(f'Total of {name} = {tot}')\n",
    "    print(f'Proportion of France: {100.*tot0/tot:.2f}%')\n",
    "    print(f'Proportion of Spain: {100.*tot1/tot:.2f}%')\n",
    "    print(f'Proportion of Germany: {100.*tot2/tot:.2f}%')\n",
    "    print(f'Proportion of France that Churned: {100.*b0/tot0:.2f}%')\n",
    "    print(f'Proportion of Spain that Churned: {100.*b1/tot1:.2f}%')\n",
    "    print(f'Proportion of Germany that Churned: {100.*b2/tot2:.2f}%')    "
   ]
  },
  {
   "cell_type": "code",
   "execution_count": null,
   "metadata": {},
   "outputs": [],
   "source": [
    "table = df.groupby(['Exited', 'HasCrCard']).agg('count').Balance.unstack()\n",
    "print_prop(table)\n",
    "table"
   ]
  },
  {
   "cell_type": "code",
   "execution_count": null,
   "metadata": {},
   "outputs": [],
   "source": [
    "table = df.groupby(['Exited', 'Gender']).agg('count').Balance.unstack()\n",
    "print_prop(table)\n",
    "table"
   ]
  },
  {
   "cell_type": "code",
   "execution_count": null,
   "metadata": {},
   "outputs": [],
   "source": [
    "table = df.groupby(['Exited', 'IsActiveMember']).agg('count').Balance.unstack()\n",
    "print_prop(table)\n",
    "table"
   ]
  },
  {
   "cell_type": "code",
   "execution_count": null,
   "metadata": {},
   "outputs": [],
   "source": [
    "table = df.groupby(['Exited', 'Geography']).agg('count').Balance.unstack()\n",
    "print_prop3(table)\n",
    "table"
   ]
  },
  {
   "cell_type": "markdown",
   "metadata": {},
   "source": [
    "## Prepare for Models"
   ]
  },
  {
   "cell_type": "code",
   "execution_count": null,
   "metadata": {},
   "outputs": [],
   "source": [
    "df.columns"
   ]
  },
  {
   "cell_type": "code",
   "execution_count": null,
   "metadata": {},
   "outputs": [],
   "source": [
    "y = df.Exited\n",
    "X = df.copy()"
   ]
  },
  {
   "cell_type": "code",
   "execution_count": null,
   "metadata": {},
   "outputs": [],
   "source": [
    "X.drop(columns=['Geography', 'Country', 'Exited'], inplace=True)\n",
    "assert len(X) == len(y)"
   ]
  },
  {
   "cell_type": "code",
   "execution_count": null,
   "metadata": {},
   "outputs": [],
   "source": [
    "X.to_csv('data/X.csv', index=False)\n",
    "y.to_csv('data/y.csv', index=False)"
   ]
  },
  {
   "cell_type": "markdown",
   "metadata": {},
   "source": [
    "# 1 - Qual a taxa de Churn atual da empresa?"
   ]
  },
  {
   "cell_type": "code",
   "execution_count": null,
   "metadata": {},
   "outputs": [],
   "source": [
    "total_churn = df.Exited.sum()\n",
    "churn_ratio = total_churn / len(df)\n",
    "\n",
    "print(f'Numero total de churns = {total_churn}')\n",
    "print(f'Taxa de churn = {100.*churn_ratio:.2f}%')"
   ]
  },
  {
   "cell_type": "markdown",
   "metadata": {},
   "source": [
    "# 2 - Como a taxa de Churn varia por mês?"
   ]
  },
  {
   "cell_type": "code",
   "execution_count": null,
   "metadata": {},
   "outputs": [],
   "source": []
  }
 ],
 "metadata": {
  "kernelspec": {
   "display_name": "Python 3",
   "language": "python",
   "name": "python3"
  },
  "language_info": {
   "codemirror_mode": {
    "name": "ipython",
    "version": 3
   },
   "file_extension": ".py",
   "mimetype": "text/x-python",
   "name": "python",
   "nbconvert_exporter": "python",
   "pygments_lexer": "ipython3",
   "version": "3.8.1"
  },
  "latex_envs": {
   "LaTeX_envs_menu_present": true,
   "autoclose": false,
   "autocomplete": true,
   "bibliofile": "biblio.bib",
   "cite_by": "apalike",
   "current_citInitial": 1,
   "eqLabelWithNumbers": true,
   "eqNumInitial": 1,
   "hotkeys": {
    "equation": "Ctrl-E",
    "itemize": "Ctrl-I"
   },
   "labels_anchors": false,
   "latex_user_defs": false,
   "report_style_numbering": false,
   "user_envs_cfg": false
  },
  "toc": {
   "base_numbering": 1,
   "nav_menu": {},
   "number_sections": true,
   "sideBar": true,
   "skip_h1_title": false,
   "title_cell": "Table of Contents",
   "title_sidebar": "Contents",
   "toc_cell": false,
   "toc_position": {},
   "toc_section_display": true,
   "toc_window_display": false
  }
 },
 "nbformat": 4,
 "nbformat_minor": 4
}
